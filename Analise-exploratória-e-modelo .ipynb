{
 "cells": [
  {
   "cell_type": "markdown",
   "id": "afa6bb48",
   "metadata": {},
   "source": [
    "# Inadimplência de clientes de cartão de crédito\n",
    "\n",
    "A base de dados pode ser encontrada em  [https://www.kaggle.com/datasets/gabrieloliveirasan/inadimpelncia-de-clientes](https://www.kaggle.com/datasets/gabrieloliveirasan/inadimplncia-de-clientes-de-carto-de-crdito?resource=download)\n",
    "\n",
    "### Descrição dos dados\n",
    "\n",
    "**Variáveis preditivas ou explicativas:** Limite de crédito, Sexo (1 = masculino; 2 = feminino), Escolaridade (1 = pós-graduação; 2 = graduação; 3 = ensino médio; 4 = outros), Estado Civil (1 = casado; 2 = solteiro; 3 = outros), Idade, Status de pagamento (Setembro, Agosto, Julho, Junho, Maio, Abril), Valor da fatura (Setembro, Agosto, Julho, Junho, Maio, Abril), Valor do pagamento (Setembro, Agosto, Julho, Junho, Maio, Abril).\n",
    "\n",
    "Status de pagamento, Valor da fatura e Valor do pagamento, correspondem cada uma a 6 variáveis, sendo que, a variável, Status de Pagamento, recebe os seguintes valores (-1 = Pago devidamente; 1 = Atraso no pagamento por 1 Mês; 2 = Atraso no pagamento por 2 Mês; ...; 9 = Atraso no pagamento por 9 Mês ou Mais)\n",
    "\n",
    "Mais detalhes sobre a pesquisa podem ser encontrados em \n",
    "https://archive.ics.uci.edu/ml/datasets/default+of+credit+card+clients\n",
    "\n",
    "A variável resposta foi empregada como sendo, *pagamento inadimplente (Sim = 1, Não = 0)*. Aqui, vamos usar esta variável da seguinte forma.\n",
    "\n",
    "**Variável resposta ou predita:**  Status Pagamento (1 = Inadimplente, 0 = Adimplente)\n",
    "\n",
    "A base de dados é de clientes de cartão de crédito com origem em Taiwan, onde a moeda vigente é o Novo dólar taiwanês (NT\\$).\n",
    "\n",
    "## Pré-processamento de dados e análise descritiva\n",
    "\n",
    "Nesta etapa, é realizados o tratamento dos dados e obtido algumas medidas descritivas que auxiliam no entendimento dos dados, algumas etapas de tratamentos são mostradas diretamente para tornar menos cansativa a leitura."
   ]
  },
  {
   "cell_type": "code",
   "execution_count": 1,
   "id": "b63079e5",
   "metadata": {},
   "outputs": [],
   "source": [
    "import pandas as pd \n",
    "import numpy as np \n",
    "import matplotlib.pyplot as plt\n",
    "import seaborn as sns"
   ]
  },
  {
   "cell_type": "code",
   "execution_count": 2,
   "id": "71e26ac0",
   "metadata": {
    "scrolled": false
   },
   "outputs": [
    {
     "data": {
      "text/html": [
       "<div>\n",
       "<style scoped>\n",
       "    .dataframe tbody tr th:only-of-type {\n",
       "        vertical-align: middle;\n",
       "    }\n",
       "\n",
       "    .dataframe tbody tr th {\n",
       "        vertical-align: top;\n",
       "    }\n",
       "\n",
       "    .dataframe thead th {\n",
       "        text-align: right;\n",
       "    }\n",
       "</style>\n",
       "<table border=\"1\" class=\"dataframe\">\n",
       "  <thead>\n",
       "    <tr style=\"text-align: right;\">\n",
       "      <th></th>\n",
       "      <th>ID</th>\n",
       "      <th>LIMIT_BAL</th>\n",
       "      <th>SEX</th>\n",
       "      <th>EDUCATION</th>\n",
       "      <th>MARRIAGE</th>\n",
       "      <th>AGE</th>\n",
       "      <th>PAY_0</th>\n",
       "      <th>PAY_2</th>\n",
       "      <th>PAY_3</th>\n",
       "      <th>PAY_4</th>\n",
       "      <th>...</th>\n",
       "      <th>BILL_AMT4</th>\n",
       "      <th>BILL_AMT5</th>\n",
       "      <th>BILL_AMT6</th>\n",
       "      <th>PAY_AMT1</th>\n",
       "      <th>PAY_AMT2</th>\n",
       "      <th>PAY_AMT3</th>\n",
       "      <th>PAY_AMT4</th>\n",
       "      <th>PAY_AMT5</th>\n",
       "      <th>PAY_AMT6</th>\n",
       "      <th>default payment next month</th>\n",
       "    </tr>\n",
       "  </thead>\n",
       "  <tbody>\n",
       "    <tr>\n",
       "      <th>0</th>\n",
       "      <td>1</td>\n",
       "      <td>20000</td>\n",
       "      <td>2</td>\n",
       "      <td>2</td>\n",
       "      <td>1</td>\n",
       "      <td>24</td>\n",
       "      <td>2</td>\n",
       "      <td>2</td>\n",
       "      <td>-1</td>\n",
       "      <td>-1</td>\n",
       "      <td>...</td>\n",
       "      <td>0</td>\n",
       "      <td>0</td>\n",
       "      <td>0</td>\n",
       "      <td>0</td>\n",
       "      <td>689</td>\n",
       "      <td>0</td>\n",
       "      <td>0</td>\n",
       "      <td>0</td>\n",
       "      <td>0</td>\n",
       "      <td>1</td>\n",
       "    </tr>\n",
       "    <tr>\n",
       "      <th>1</th>\n",
       "      <td>2</td>\n",
       "      <td>120000</td>\n",
       "      <td>2</td>\n",
       "      <td>2</td>\n",
       "      <td>2</td>\n",
       "      <td>26</td>\n",
       "      <td>-1</td>\n",
       "      <td>2</td>\n",
       "      <td>0</td>\n",
       "      <td>0</td>\n",
       "      <td>...</td>\n",
       "      <td>3272</td>\n",
       "      <td>3455</td>\n",
       "      <td>3261</td>\n",
       "      <td>0</td>\n",
       "      <td>1000</td>\n",
       "      <td>1000</td>\n",
       "      <td>1000</td>\n",
       "      <td>0</td>\n",
       "      <td>2000</td>\n",
       "      <td>1</td>\n",
       "    </tr>\n",
       "    <tr>\n",
       "      <th>2</th>\n",
       "      <td>3</td>\n",
       "      <td>90000</td>\n",
       "      <td>2</td>\n",
       "      <td>2</td>\n",
       "      <td>2</td>\n",
       "      <td>34</td>\n",
       "      <td>0</td>\n",
       "      <td>0</td>\n",
       "      <td>0</td>\n",
       "      <td>0</td>\n",
       "      <td>...</td>\n",
       "      <td>14331</td>\n",
       "      <td>14948</td>\n",
       "      <td>15549</td>\n",
       "      <td>1518</td>\n",
       "      <td>1500</td>\n",
       "      <td>1000</td>\n",
       "      <td>1000</td>\n",
       "      <td>1000</td>\n",
       "      <td>5000</td>\n",
       "      <td>0</td>\n",
       "    </tr>\n",
       "    <tr>\n",
       "      <th>3</th>\n",
       "      <td>4</td>\n",
       "      <td>50000</td>\n",
       "      <td>2</td>\n",
       "      <td>2</td>\n",
       "      <td>1</td>\n",
       "      <td>37</td>\n",
       "      <td>0</td>\n",
       "      <td>0</td>\n",
       "      <td>0</td>\n",
       "      <td>0</td>\n",
       "      <td>...</td>\n",
       "      <td>28314</td>\n",
       "      <td>28959</td>\n",
       "      <td>29547</td>\n",
       "      <td>2000</td>\n",
       "      <td>2019</td>\n",
       "      <td>1200</td>\n",
       "      <td>1100</td>\n",
       "      <td>1069</td>\n",
       "      <td>1000</td>\n",
       "      <td>0</td>\n",
       "    </tr>\n",
       "    <tr>\n",
       "      <th>4</th>\n",
       "      <td>5</td>\n",
       "      <td>50000</td>\n",
       "      <td>1</td>\n",
       "      <td>2</td>\n",
       "      <td>1</td>\n",
       "      <td>57</td>\n",
       "      <td>-1</td>\n",
       "      <td>0</td>\n",
       "      <td>-1</td>\n",
       "      <td>0</td>\n",
       "      <td>...</td>\n",
       "      <td>20940</td>\n",
       "      <td>19146</td>\n",
       "      <td>19131</td>\n",
       "      <td>2000</td>\n",
       "      <td>36681</td>\n",
       "      <td>10000</td>\n",
       "      <td>9000</td>\n",
       "      <td>689</td>\n",
       "      <td>679</td>\n",
       "      <td>0</td>\n",
       "    </tr>\n",
       "    <tr>\n",
       "      <th>...</th>\n",
       "      <td>...</td>\n",
       "      <td>...</td>\n",
       "      <td>...</td>\n",
       "      <td>...</td>\n",
       "      <td>...</td>\n",
       "      <td>...</td>\n",
       "      <td>...</td>\n",
       "      <td>...</td>\n",
       "      <td>...</td>\n",
       "      <td>...</td>\n",
       "      <td>...</td>\n",
       "      <td>...</td>\n",
       "      <td>...</td>\n",
       "      <td>...</td>\n",
       "      <td>...</td>\n",
       "      <td>...</td>\n",
       "      <td>...</td>\n",
       "      <td>...</td>\n",
       "      <td>...</td>\n",
       "      <td>...</td>\n",
       "      <td>...</td>\n",
       "    </tr>\n",
       "    <tr>\n",
       "      <th>29995</th>\n",
       "      <td>29996</td>\n",
       "      <td>220000</td>\n",
       "      <td>1</td>\n",
       "      <td>3</td>\n",
       "      <td>1</td>\n",
       "      <td>39</td>\n",
       "      <td>0</td>\n",
       "      <td>0</td>\n",
       "      <td>0</td>\n",
       "      <td>0</td>\n",
       "      <td>...</td>\n",
       "      <td>88004</td>\n",
       "      <td>31237</td>\n",
       "      <td>15980</td>\n",
       "      <td>8500</td>\n",
       "      <td>20000</td>\n",
       "      <td>5003</td>\n",
       "      <td>3047</td>\n",
       "      <td>5000</td>\n",
       "      <td>1000</td>\n",
       "      <td>0</td>\n",
       "    </tr>\n",
       "    <tr>\n",
       "      <th>29996</th>\n",
       "      <td>29997</td>\n",
       "      <td>150000</td>\n",
       "      <td>1</td>\n",
       "      <td>3</td>\n",
       "      <td>2</td>\n",
       "      <td>43</td>\n",
       "      <td>-1</td>\n",
       "      <td>-1</td>\n",
       "      <td>-1</td>\n",
       "      <td>-1</td>\n",
       "      <td>...</td>\n",
       "      <td>8979</td>\n",
       "      <td>5190</td>\n",
       "      <td>0</td>\n",
       "      <td>1837</td>\n",
       "      <td>3526</td>\n",
       "      <td>8998</td>\n",
       "      <td>129</td>\n",
       "      <td>0</td>\n",
       "      <td>0</td>\n",
       "      <td>0</td>\n",
       "    </tr>\n",
       "    <tr>\n",
       "      <th>29997</th>\n",
       "      <td>29998</td>\n",
       "      <td>30000</td>\n",
       "      <td>1</td>\n",
       "      <td>2</td>\n",
       "      <td>2</td>\n",
       "      <td>37</td>\n",
       "      <td>4</td>\n",
       "      <td>3</td>\n",
       "      <td>2</td>\n",
       "      <td>-1</td>\n",
       "      <td>...</td>\n",
       "      <td>20878</td>\n",
       "      <td>20582</td>\n",
       "      <td>19357</td>\n",
       "      <td>0</td>\n",
       "      <td>0</td>\n",
       "      <td>22000</td>\n",
       "      <td>4200</td>\n",
       "      <td>2000</td>\n",
       "      <td>3100</td>\n",
       "      <td>1</td>\n",
       "    </tr>\n",
       "    <tr>\n",
       "      <th>29998</th>\n",
       "      <td>29999</td>\n",
       "      <td>80000</td>\n",
       "      <td>1</td>\n",
       "      <td>3</td>\n",
       "      <td>1</td>\n",
       "      <td>41</td>\n",
       "      <td>1</td>\n",
       "      <td>-1</td>\n",
       "      <td>0</td>\n",
       "      <td>0</td>\n",
       "      <td>...</td>\n",
       "      <td>52774</td>\n",
       "      <td>11855</td>\n",
       "      <td>48944</td>\n",
       "      <td>85900</td>\n",
       "      <td>3409</td>\n",
       "      <td>1178</td>\n",
       "      <td>1926</td>\n",
       "      <td>52964</td>\n",
       "      <td>1804</td>\n",
       "      <td>1</td>\n",
       "    </tr>\n",
       "    <tr>\n",
       "      <th>29999</th>\n",
       "      <td>30000</td>\n",
       "      <td>50000</td>\n",
       "      <td>1</td>\n",
       "      <td>2</td>\n",
       "      <td>1</td>\n",
       "      <td>46</td>\n",
       "      <td>0</td>\n",
       "      <td>0</td>\n",
       "      <td>0</td>\n",
       "      <td>0</td>\n",
       "      <td>...</td>\n",
       "      <td>36535</td>\n",
       "      <td>32428</td>\n",
       "      <td>15313</td>\n",
       "      <td>2078</td>\n",
       "      <td>1800</td>\n",
       "      <td>1430</td>\n",
       "      <td>1000</td>\n",
       "      <td>1000</td>\n",
       "      <td>1000</td>\n",
       "      <td>1</td>\n",
       "    </tr>\n",
       "  </tbody>\n",
       "</table>\n",
       "<p>30000 rows × 25 columns</p>\n",
       "</div>"
      ],
      "text/plain": [
       "          ID  LIMIT_BAL  SEX  EDUCATION  MARRIAGE  AGE  PAY_0  PAY_2  PAY_3  \\\n",
       "0          1      20000    2          2         1   24      2      2     -1   \n",
       "1          2     120000    2          2         2   26     -1      2      0   \n",
       "2          3      90000    2          2         2   34      0      0      0   \n",
       "3          4      50000    2          2         1   37      0      0      0   \n",
       "4          5      50000    1          2         1   57     -1      0     -1   \n",
       "...      ...        ...  ...        ...       ...  ...    ...    ...    ...   \n",
       "29995  29996     220000    1          3         1   39      0      0      0   \n",
       "29996  29997     150000    1          3         2   43     -1     -1     -1   \n",
       "29997  29998      30000    1          2         2   37      4      3      2   \n",
       "29998  29999      80000    1          3         1   41      1     -1      0   \n",
       "29999  30000      50000    1          2         1   46      0      0      0   \n",
       "\n",
       "       PAY_4  ...  BILL_AMT4  BILL_AMT5  BILL_AMT6  PAY_AMT1  PAY_AMT2  \\\n",
       "0         -1  ...          0          0          0         0       689   \n",
       "1          0  ...       3272       3455       3261         0      1000   \n",
       "2          0  ...      14331      14948      15549      1518      1500   \n",
       "3          0  ...      28314      28959      29547      2000      2019   \n",
       "4          0  ...      20940      19146      19131      2000     36681   \n",
       "...      ...  ...        ...        ...        ...       ...       ...   \n",
       "29995      0  ...      88004      31237      15980      8500     20000   \n",
       "29996     -1  ...       8979       5190          0      1837      3526   \n",
       "29997     -1  ...      20878      20582      19357         0         0   \n",
       "29998      0  ...      52774      11855      48944     85900      3409   \n",
       "29999      0  ...      36535      32428      15313      2078      1800   \n",
       "\n",
       "       PAY_AMT3  PAY_AMT4  PAY_AMT5  PAY_AMT6  default payment next month  \n",
       "0             0         0         0         0                           1  \n",
       "1          1000      1000         0      2000                           1  \n",
       "2          1000      1000      1000      5000                           0  \n",
       "3          1200      1100      1069      1000                           0  \n",
       "4         10000      9000       689       679                           0  \n",
       "...         ...       ...       ...       ...                         ...  \n",
       "29995      5003      3047      5000      1000                           0  \n",
       "29996      8998       129         0         0                           0  \n",
       "29997     22000      4200      2000      3100                           1  \n",
       "29998      1178      1926     52964      1804                           1  \n",
       "29999      1430      1000      1000      1000                           1  \n",
       "\n",
       "[30000 rows x 25 columns]"
      ]
     },
     "execution_count": 2,
     "metadata": {},
     "output_type": "execute_result"
    }
   ],
   "source": [
    "df = pd.read_csv('credit.csv')\n",
    "df"
   ]
  },
  {
   "cell_type": "markdown",
   "id": "0b2625ba",
   "metadata": {},
   "source": [
    "### Renomeando as variáveis \n",
    "\n",
    "Esse processo facilitará o entendimento e a visualização dos dados posteriormente."
   ]
  },
  {
   "cell_type": "code",
   "execution_count": 3,
   "id": "7b211ca2",
   "metadata": {},
   "outputs": [],
   "source": [
    "df.rename(columns={'ID': 'ID Cliente', 'LIMIT_BAL': 'Limite_Credito','SEX':'Sexo', 'EDUCATION': 'Escolaridade', \n",
    "                  'MARRIAGE':'Est_Civil', 'AGE':'Idade', 'PAY_0':'Status_Set', 'PAY_2':'Status_Ago', \n",
    "                   'PAY_3':'Status_Jul', 'PAY_4':'Status_Jun', 'PAY_5':'Status_Mai', 'PAY_6':'Status_Abr', \n",
    "                   'BILL_AMT1':'Valor_Set', 'BILL_AMT2':'Valor_Ago', 'BILL_AMT3':'Valor_Jul', \n",
    "                   'BILL_AMT4':'Valor_Jun', 'BILL_AMT5':'Valor_Mai', 'BILL_AMT6':'Valor_Abr', \n",
    "                   'PAY_AMT1':'Pag_Set', 'PAY_AMT2':'Pag_Ago', 'PAY_AMT3':'Pag_Jul', \n",
    "                   'PAY_AMT4':'Pag_Jun', 'PAY_AMT5':'Pag_Mai', 'PAY_AMT6':'Pag_Abr', \n",
    "                   'default payment next month': 'Status Pagamento'}, inplace = True)\n"
   ]
  },
  {
   "cell_type": "code",
   "execution_count": 4,
   "id": "8a313194",
   "metadata": {
    "scrolled": true
   },
   "outputs": [
    {
     "data": {
      "text/html": [
       "<div>\n",
       "<style scoped>\n",
       "    .dataframe tbody tr th:only-of-type {\n",
       "        vertical-align: middle;\n",
       "    }\n",
       "\n",
       "    .dataframe tbody tr th {\n",
       "        vertical-align: top;\n",
       "    }\n",
       "\n",
       "    .dataframe thead th {\n",
       "        text-align: right;\n",
       "    }\n",
       "</style>\n",
       "<table border=\"1\" class=\"dataframe\">\n",
       "  <thead>\n",
       "    <tr style=\"text-align: right;\">\n",
       "      <th></th>\n",
       "      <th>ID Cliente</th>\n",
       "      <th>Limite_Credito</th>\n",
       "      <th>Sexo</th>\n",
       "      <th>Escolaridade</th>\n",
       "      <th>Est_Civil</th>\n",
       "      <th>Idade</th>\n",
       "      <th>Status_Set</th>\n",
       "      <th>Status_Ago</th>\n",
       "      <th>Status_Jul</th>\n",
       "      <th>Status_Jun</th>\n",
       "      <th>...</th>\n",
       "      <th>Valor_Jun</th>\n",
       "      <th>Valor_Mai</th>\n",
       "      <th>Valor_Abr</th>\n",
       "      <th>Pag_Set</th>\n",
       "      <th>Pag_Ago</th>\n",
       "      <th>Pag_Jul</th>\n",
       "      <th>Pag_Jun</th>\n",
       "      <th>Pag_Mai</th>\n",
       "      <th>Pag_Abr</th>\n",
       "      <th>Status Pagamento</th>\n",
       "    </tr>\n",
       "  </thead>\n",
       "  <tbody>\n",
       "    <tr>\n",
       "      <th>count</th>\n",
       "      <td>30000.000000</td>\n",
       "      <td>30000.000000</td>\n",
       "      <td>30000.000000</td>\n",
       "      <td>30000.000000</td>\n",
       "      <td>30000.000000</td>\n",
       "      <td>30000.000000</td>\n",
       "      <td>30000.000000</td>\n",
       "      <td>30000.000000</td>\n",
       "      <td>30000.000000</td>\n",
       "      <td>30000.000000</td>\n",
       "      <td>...</td>\n",
       "      <td>30000.000000</td>\n",
       "      <td>30000.000000</td>\n",
       "      <td>30000.000000</td>\n",
       "      <td>30000.000000</td>\n",
       "      <td>3.000000e+04</td>\n",
       "      <td>30000.00000</td>\n",
       "      <td>30000.000000</td>\n",
       "      <td>30000.000000</td>\n",
       "      <td>30000.000000</td>\n",
       "      <td>30000.000000</td>\n",
       "    </tr>\n",
       "    <tr>\n",
       "      <th>mean</th>\n",
       "      <td>15000.500000</td>\n",
       "      <td>167484.322667</td>\n",
       "      <td>1.603733</td>\n",
       "      <td>1.853133</td>\n",
       "      <td>1.551867</td>\n",
       "      <td>35.485500</td>\n",
       "      <td>-0.016700</td>\n",
       "      <td>-0.133767</td>\n",
       "      <td>-0.166200</td>\n",
       "      <td>-0.220667</td>\n",
       "      <td>...</td>\n",
       "      <td>43262.948967</td>\n",
       "      <td>40311.400967</td>\n",
       "      <td>38871.760400</td>\n",
       "      <td>5663.580500</td>\n",
       "      <td>5.921163e+03</td>\n",
       "      <td>5225.68150</td>\n",
       "      <td>4826.076867</td>\n",
       "      <td>4799.387633</td>\n",
       "      <td>5215.502567</td>\n",
       "      <td>0.221200</td>\n",
       "    </tr>\n",
       "    <tr>\n",
       "      <th>std</th>\n",
       "      <td>8660.398374</td>\n",
       "      <td>129747.661567</td>\n",
       "      <td>0.489129</td>\n",
       "      <td>0.790349</td>\n",
       "      <td>0.521970</td>\n",
       "      <td>9.217904</td>\n",
       "      <td>1.123802</td>\n",
       "      <td>1.197186</td>\n",
       "      <td>1.196868</td>\n",
       "      <td>1.169139</td>\n",
       "      <td>...</td>\n",
       "      <td>64332.856134</td>\n",
       "      <td>60797.155770</td>\n",
       "      <td>59554.107537</td>\n",
       "      <td>16563.280354</td>\n",
       "      <td>2.304087e+04</td>\n",
       "      <td>17606.96147</td>\n",
       "      <td>15666.159744</td>\n",
       "      <td>15278.305679</td>\n",
       "      <td>17777.465775</td>\n",
       "      <td>0.415062</td>\n",
       "    </tr>\n",
       "    <tr>\n",
       "      <th>min</th>\n",
       "      <td>1.000000</td>\n",
       "      <td>10000.000000</td>\n",
       "      <td>1.000000</td>\n",
       "      <td>0.000000</td>\n",
       "      <td>0.000000</td>\n",
       "      <td>21.000000</td>\n",
       "      <td>-2.000000</td>\n",
       "      <td>-2.000000</td>\n",
       "      <td>-2.000000</td>\n",
       "      <td>-2.000000</td>\n",
       "      <td>...</td>\n",
       "      <td>-170000.000000</td>\n",
       "      <td>-81334.000000</td>\n",
       "      <td>-339603.000000</td>\n",
       "      <td>0.000000</td>\n",
       "      <td>0.000000e+00</td>\n",
       "      <td>0.00000</td>\n",
       "      <td>0.000000</td>\n",
       "      <td>0.000000</td>\n",
       "      <td>0.000000</td>\n",
       "      <td>0.000000</td>\n",
       "    </tr>\n",
       "    <tr>\n",
       "      <th>25%</th>\n",
       "      <td>7500.750000</td>\n",
       "      <td>50000.000000</td>\n",
       "      <td>1.000000</td>\n",
       "      <td>1.000000</td>\n",
       "      <td>1.000000</td>\n",
       "      <td>28.000000</td>\n",
       "      <td>-1.000000</td>\n",
       "      <td>-1.000000</td>\n",
       "      <td>-1.000000</td>\n",
       "      <td>-1.000000</td>\n",
       "      <td>...</td>\n",
       "      <td>2326.750000</td>\n",
       "      <td>1763.000000</td>\n",
       "      <td>1256.000000</td>\n",
       "      <td>1000.000000</td>\n",
       "      <td>8.330000e+02</td>\n",
       "      <td>390.00000</td>\n",
       "      <td>296.000000</td>\n",
       "      <td>252.500000</td>\n",
       "      <td>117.750000</td>\n",
       "      <td>0.000000</td>\n",
       "    </tr>\n",
       "    <tr>\n",
       "      <th>50%</th>\n",
       "      <td>15000.500000</td>\n",
       "      <td>140000.000000</td>\n",
       "      <td>2.000000</td>\n",
       "      <td>2.000000</td>\n",
       "      <td>2.000000</td>\n",
       "      <td>34.000000</td>\n",
       "      <td>0.000000</td>\n",
       "      <td>0.000000</td>\n",
       "      <td>0.000000</td>\n",
       "      <td>0.000000</td>\n",
       "      <td>...</td>\n",
       "      <td>19052.000000</td>\n",
       "      <td>18104.500000</td>\n",
       "      <td>17071.000000</td>\n",
       "      <td>2100.000000</td>\n",
       "      <td>2.009000e+03</td>\n",
       "      <td>1800.00000</td>\n",
       "      <td>1500.000000</td>\n",
       "      <td>1500.000000</td>\n",
       "      <td>1500.000000</td>\n",
       "      <td>0.000000</td>\n",
       "    </tr>\n",
       "    <tr>\n",
       "      <th>75%</th>\n",
       "      <td>22500.250000</td>\n",
       "      <td>240000.000000</td>\n",
       "      <td>2.000000</td>\n",
       "      <td>2.000000</td>\n",
       "      <td>2.000000</td>\n",
       "      <td>41.000000</td>\n",
       "      <td>0.000000</td>\n",
       "      <td>0.000000</td>\n",
       "      <td>0.000000</td>\n",
       "      <td>0.000000</td>\n",
       "      <td>...</td>\n",
       "      <td>54506.000000</td>\n",
       "      <td>50190.500000</td>\n",
       "      <td>49198.250000</td>\n",
       "      <td>5006.000000</td>\n",
       "      <td>5.000000e+03</td>\n",
       "      <td>4505.00000</td>\n",
       "      <td>4013.250000</td>\n",
       "      <td>4031.500000</td>\n",
       "      <td>4000.000000</td>\n",
       "      <td>0.000000</td>\n",
       "    </tr>\n",
       "    <tr>\n",
       "      <th>max</th>\n",
       "      <td>30000.000000</td>\n",
       "      <td>1000000.000000</td>\n",
       "      <td>2.000000</td>\n",
       "      <td>6.000000</td>\n",
       "      <td>3.000000</td>\n",
       "      <td>79.000000</td>\n",
       "      <td>8.000000</td>\n",
       "      <td>8.000000</td>\n",
       "      <td>8.000000</td>\n",
       "      <td>8.000000</td>\n",
       "      <td>...</td>\n",
       "      <td>891586.000000</td>\n",
       "      <td>927171.000000</td>\n",
       "      <td>961664.000000</td>\n",
       "      <td>873552.000000</td>\n",
       "      <td>1.684259e+06</td>\n",
       "      <td>896040.00000</td>\n",
       "      <td>621000.000000</td>\n",
       "      <td>426529.000000</td>\n",
       "      <td>528666.000000</td>\n",
       "      <td>1.000000</td>\n",
       "    </tr>\n",
       "  </tbody>\n",
       "</table>\n",
       "<p>8 rows × 25 columns</p>\n",
       "</div>"
      ],
      "text/plain": [
       "         ID Cliente  Limite_Credito          Sexo  Escolaridade     Est_Civil  \\\n",
       "count  30000.000000    30000.000000  30000.000000  30000.000000  30000.000000   \n",
       "mean   15000.500000   167484.322667      1.603733      1.853133      1.551867   \n",
       "std     8660.398374   129747.661567      0.489129      0.790349      0.521970   \n",
       "min        1.000000    10000.000000      1.000000      0.000000      0.000000   \n",
       "25%     7500.750000    50000.000000      1.000000      1.000000      1.000000   \n",
       "50%    15000.500000   140000.000000      2.000000      2.000000      2.000000   \n",
       "75%    22500.250000   240000.000000      2.000000      2.000000      2.000000   \n",
       "max    30000.000000  1000000.000000      2.000000      6.000000      3.000000   \n",
       "\n",
       "              Idade    Status_Set    Status_Ago    Status_Jul    Status_Jun  \\\n",
       "count  30000.000000  30000.000000  30000.000000  30000.000000  30000.000000   \n",
       "mean      35.485500     -0.016700     -0.133767     -0.166200     -0.220667   \n",
       "std        9.217904      1.123802      1.197186      1.196868      1.169139   \n",
       "min       21.000000     -2.000000     -2.000000     -2.000000     -2.000000   \n",
       "25%       28.000000     -1.000000     -1.000000     -1.000000     -1.000000   \n",
       "50%       34.000000      0.000000      0.000000      0.000000      0.000000   \n",
       "75%       41.000000      0.000000      0.000000      0.000000      0.000000   \n",
       "max       79.000000      8.000000      8.000000      8.000000      8.000000   \n",
       "\n",
       "       ...      Valor_Jun      Valor_Mai      Valor_Abr        Pag_Set  \\\n",
       "count  ...   30000.000000   30000.000000   30000.000000   30000.000000   \n",
       "mean   ...   43262.948967   40311.400967   38871.760400    5663.580500   \n",
       "std    ...   64332.856134   60797.155770   59554.107537   16563.280354   \n",
       "min    ... -170000.000000  -81334.000000 -339603.000000       0.000000   \n",
       "25%    ...    2326.750000    1763.000000    1256.000000    1000.000000   \n",
       "50%    ...   19052.000000   18104.500000   17071.000000    2100.000000   \n",
       "75%    ...   54506.000000   50190.500000   49198.250000    5006.000000   \n",
       "max    ...  891586.000000  927171.000000  961664.000000  873552.000000   \n",
       "\n",
       "            Pag_Ago       Pag_Jul        Pag_Jun        Pag_Mai  \\\n",
       "count  3.000000e+04   30000.00000   30000.000000   30000.000000   \n",
       "mean   5.921163e+03    5225.68150    4826.076867    4799.387633   \n",
       "std    2.304087e+04   17606.96147   15666.159744   15278.305679   \n",
       "min    0.000000e+00       0.00000       0.000000       0.000000   \n",
       "25%    8.330000e+02     390.00000     296.000000     252.500000   \n",
       "50%    2.009000e+03    1800.00000    1500.000000    1500.000000   \n",
       "75%    5.000000e+03    4505.00000    4013.250000    4031.500000   \n",
       "max    1.684259e+06  896040.00000  621000.000000  426529.000000   \n",
       "\n",
       "             Pag_Abr  Status Pagamento  \n",
       "count   30000.000000      30000.000000  \n",
       "mean     5215.502567          0.221200  \n",
       "std     17777.465775          0.415062  \n",
       "min         0.000000          0.000000  \n",
       "25%       117.750000          0.000000  \n",
       "50%      1500.000000          0.000000  \n",
       "75%      4000.000000          0.000000  \n",
       "max    528666.000000          1.000000  \n",
       "\n",
       "[8 rows x 25 columns]"
      ]
     },
     "execution_count": 4,
     "metadata": {},
     "output_type": "execute_result"
    }
   ],
   "source": [
    "df.describe()"
   ]
  },
  {
   "cell_type": "markdown",
   "id": "87ec80d8",
   "metadata": {},
   "source": [
    "Observa-se valores negativos em *min* da função *describe* para as variáveis que refere-se ao valor da fatura, uma análise mais detalhada permitiu perceber que esses valores negativos são comuns da base dados de crédito. Observe também que, pela contagem dos dados não existe nenhuma observação faltante, mas, mesmo assim, pode-se executar o código seguinte. "
   ]
  },
  {
   "cell_type": "code",
   "execution_count": 5,
   "id": "90dd468a",
   "metadata": {},
   "outputs": [
    {
     "data": {
      "text/plain": [
       "ID Cliente          0\n",
       "Limite_Credito      0\n",
       "Sexo                0\n",
       "Escolaridade        0\n",
       "Est_Civil           0\n",
       "Idade               0\n",
       "Status_Set          0\n",
       "Status_Ago          0\n",
       "Status_Jul          0\n",
       "Status_Jun          0\n",
       "Status_Mai          0\n",
       "Status_Abr          0\n",
       "Valor_Set           0\n",
       "Valor_Ago           0\n",
       "Valor_Jul           0\n",
       "Valor_Jun           0\n",
       "Valor_Mai           0\n",
       "Valor_Abr           0\n",
       "Pag_Set             0\n",
       "Pag_Ago             0\n",
       "Pag_Jul             0\n",
       "Pag_Jun             0\n",
       "Pag_Mai             0\n",
       "Pag_Abr             0\n",
       "Status Pagamento    0\n",
       "dtype: int64"
      ]
     },
     "execution_count": 5,
     "metadata": {},
     "output_type": "execute_result"
    }
   ],
   "source": [
    "df.isnull().sum()"
   ]
  },
  {
   "cell_type": "code",
   "execution_count": 6,
   "id": "570181fb",
   "metadata": {
    "scrolled": false
   },
   "outputs": [
    {
     "name": "stdout",
     "output_type": "stream",
     "text": [
      "<class 'pandas.core.frame.DataFrame'>\n",
      "RangeIndex: 30000 entries, 0 to 29999\n",
      "Data columns (total 25 columns):\n",
      " #   Column            Non-Null Count  Dtype\n",
      "---  ------            --------------  -----\n",
      " 0   ID Cliente        30000 non-null  int64\n",
      " 1   Limite_Credito    30000 non-null  int64\n",
      " 2   Sexo              30000 non-null  int64\n",
      " 3   Escolaridade      30000 non-null  int64\n",
      " 4   Est_Civil         30000 non-null  int64\n",
      " 5   Idade             30000 non-null  int64\n",
      " 6   Status_Set        30000 non-null  int64\n",
      " 7   Status_Ago        30000 non-null  int64\n",
      " 8   Status_Jul        30000 non-null  int64\n",
      " 9   Status_Jun        30000 non-null  int64\n",
      " 10  Status_Mai        30000 non-null  int64\n",
      " 11  Status_Abr        30000 non-null  int64\n",
      " 12  Valor_Set         30000 non-null  int64\n",
      " 13  Valor_Ago         30000 non-null  int64\n",
      " 14  Valor_Jul         30000 non-null  int64\n",
      " 15  Valor_Jun         30000 non-null  int64\n",
      " 16  Valor_Mai         30000 non-null  int64\n",
      " 17  Valor_Abr         30000 non-null  int64\n",
      " 18  Pag_Set           30000 non-null  int64\n",
      " 19  Pag_Ago           30000 non-null  int64\n",
      " 20  Pag_Jul           30000 non-null  int64\n",
      " 21  Pag_Jun           30000 non-null  int64\n",
      " 22  Pag_Mai           30000 non-null  int64\n",
      " 23  Pag_Abr           30000 non-null  int64\n",
      " 24  Status Pagamento  30000 non-null  int64\n",
      "dtypes: int64(25)\n",
      "memory usage: 5.7 MB\n"
     ]
    }
   ],
   "source": [
    "df.info()"
   ]
  },
  {
   "cell_type": "markdown",
   "id": "ec64b933",
   "metadata": {},
   "source": [
    "Todas as variáveis foram identificadas como valores inteiros.\n",
    "\n",
    "### Tratando inconsistências"
   ]
  },
  {
   "cell_type": "code",
   "execution_count": 7,
   "id": "4705d843",
   "metadata": {},
   "outputs": [
    {
     "data": {
      "text/plain": [
       "Est_Civil\n",
       "2            15964\n",
       "1            13659\n",
       "3              323\n",
       "0               54\n",
       "dtype: int64"
      ]
     },
     "execution_count": 7,
     "metadata": {},
     "output_type": "execute_result"
    }
   ],
   "source": [
    "df[['Est_Civil']].value_counts() # 1 = casado; 2 = solteiro; 3 = outros"
   ]
  },
  {
   "cell_type": "code",
   "execution_count": 8,
   "id": "9fdf3287",
   "metadata": {},
   "outputs": [
    {
     "data": {
      "text/plain": [
       "Escolaridade\n",
       "2               14030\n",
       "1               10585\n",
       "3                4917\n",
       "5                 280\n",
       "4                 123\n",
       "6                  51\n",
       "0                  14\n",
       "dtype: int64"
      ]
     },
     "execution_count": 8,
     "metadata": {},
     "output_type": "execute_result"
    }
   ],
   "source": [
    "df[['Escolaridade']].value_counts() #1 = pós-graduação; 2 = universidade; 3 = ensino médio; 4 = outros"
   ]
  },
  {
   "cell_type": "markdown",
   "id": "64853910",
   "metadata": {},
   "source": [
    "Algumas inconsistências foram encontradas e optou-se pelo seguinte:\n",
    "\n",
    "- Estado civil: valores diferentes de 1,2 ou 3, foi considerado como pertencentes a classe *outros*\n",
    "- Escolaridade: valores diferentes de 1,2,3 ou 4, foi considerado como pertencentes a classe *outros*\n",
    "\n",
    "Poderia ter optado por remover as variáveis, porém observações classificadas como *outros* em estado civil, podem tanto ser divorciados ou viúvos, por exemplo, como isso não foi bem definido, optei por realizar a tratativa desta maneira, de modo que que *outros* segue como sendo aqueles em que a classe não foi especificamente definida, o mesmo vale para *escolaridade*."
   ]
  },
  {
   "cell_type": "code",
   "execution_count": 9,
   "id": "5c074cc9",
   "metadata": {},
   "outputs": [],
   "source": [
    "df.loc[df['Est_Civil']==0, 'Est_Civil']=3\n",
    "\n",
    "df.loc[df['Escolaridade']>4, 'Escolaridade']=4\n",
    "df.loc[df['Escolaridade']==0, 'Escolaridade']=4"
   ]
  },
  {
   "cell_type": "code",
   "execution_count": 10,
   "id": "e4273800",
   "metadata": {},
   "outputs": [],
   "source": [
    "del df['ID Cliente']"
   ]
  },
  {
   "cell_type": "markdown",
   "id": "13257fde",
   "metadata": {},
   "source": [
    "### Avaliando o comportamento dos dados usando boxplot"
   ]
  },
  {
   "cell_type": "code",
   "execution_count": 11,
   "id": "9cc92601",
   "metadata": {},
   "outputs": [
    {
     "data": {
      "text/plain": [
       "<AxesSubplot:>"
      ]
     },
     "execution_count": 11,
     "metadata": {},
     "output_type": "execute_result"
    },
    {
     "data": {
      "image/png": "[encoded data removed]",
      "text/plain": [
       "<Figure size 640x480 with 1 Axes>"
      ]
     },
     "metadata": {},
     "output_type": "display_data"
    }
   ],
   "source": [
    "#%%hidden\n",
    "sns.set_style(\"whitegrid\")\n",
    "sns.boxplot(data=df[[\"Valor_Abr\",\"Valor_Mai\",\"Valor_Jun\",\n",
    "                     \"Valor_Jul\",\"Valor_Ago\",\"Valor_Set\"]], orient='v')"
   ]
  },
  {
   "cell_type": "code",
   "execution_count": 12,
   "id": "9d59734d",
   "metadata": {},
   "outputs": [
    {
     "data": {
      "text/plain": [
       "<AxesSubplot:>"
      ]
     },
     "execution_count": 12,
     "metadata": {},
     "output_type": "execute_result"
    },
    {
     "data": {
      "image/png": "[encoded data removed]",
      "text/plain": [
       "<Figure size 640x480 with 1 Axes>"
      ]
     },
     "metadata": {},
     "output_type": "display_data"
    }
   ],
   "source": [
    "sns.set_style(\"whitegrid\")\n",
    "sns.boxplot(data=df[[\"Pag_Abr\",\"Pag_Mai\",\"Pag_Jun\",\n",
    "                     \"Pag_Jul\",\"Pag_Ago\",\"Pag_Set\"]], orient='v')"
   ]
  },
  {
   "cell_type": "code",
   "execution_count": 13,
   "id": "987363b2",
   "metadata": {},
   "outputs": [
    {
     "data": {
      "text/plain": [
       "<AxesSubplot:>"
      ]
     },
     "execution_count": 13,
     "metadata": {},
     "output_type": "execute_result"
    },
    {
     "data": {
      "image/png": "[encoded data removed]",
      "text/plain": [
       "<Figure size 640x480 with 1 Axes>"
      ]
     },
     "metadata": {},
     "output_type": "display_data"
    }
   ],
   "source": [
    "sns.set_style(\"whitegrid\")\n",
    "sns.boxplot(data=df[[\"Limite_Credito\"]], orient='v')"
   ]
  },
  {
   "cell_type": "code",
   "execution_count": 14,
   "id": "30663f52",
   "metadata": {
    "scrolled": false
   },
   "outputs": [
    {
     "data": {
      "text/plain": [
       "<AxesSubplot:>"
      ]
     },
     "execution_count": 14,
     "metadata": {},
     "output_type": "execute_result"
    },
    {
     "data": {
      "image/png": "[encoded data removed]",
      "text/plain": [
       "<Figure size 640x480 with 1 Axes>"
      ]
     },
     "metadata": {},
     "output_type": "display_data"
    }
   ],
   "source": [
    "sns.set_style(\"whitegrid\")\n",
    "sns.boxplot(data=df[[\"Idade\"]], orient='v')"
   ]
  },
  {
   "cell_type": "markdown",
   "id": "299ec518",
   "metadata": {},
   "source": [
    "Optei por não remover os pontos que talvez possam ser identificados como outliers, pois, não é possivel determinar se esses dados foram apenas preenchidos incorretamente ou se existem. Se avaliarmos bem, eles podem ser considerados, em alguns casos, pouco comuns, mas não quer dizer que não existam. Para o caso de uma modelagem posterior, podemos avaliar a inlfuência dessas observações em um modelo de previsão.\n",
    "\n",
    "## Análise exploratória\n",
    "\n",
    "Essa análise inicial consiste em buscar compreender o comportamento dos dados e buscar relações, através de algumas visualizações gráficas. \n",
    "\n",
    "### Variáveis categóricas\n",
    "\n",
    "Para facilitar a visualização gráfica dos dados, irei renomear as categorias das variáveis categóricas que já estão definidas. "
   ]
  },
  {
   "cell_type": "code",
   "execution_count": 15,
   "id": "487ae906",
   "metadata": {},
   "outputs": [],
   "source": [
    "df['Status Pagamento'] = df['Status Pagamento'].replace({1: 'Inadimplente', 0: 'Adimplente'})\n",
    "df['Sexo'] = df['Sexo'].replace({1: 'Masculino', 2: 'Feminino'})\n",
    "df['Escolaridade'] = df['Escolaridade'].replace({1: 'Pós-graduação', 2: 'Graduação', 3: 'Ensino médio', 4: 'Outros'})\n",
    "df['Est_Civil'] = df['Est_Civil'].replace({1: 'Casado', 2: 'Solteiro', 3: 'Outros'})"
   ]
  },
  {
   "cell_type": "code",
   "execution_count": 16,
   "id": "99fca1f9",
   "metadata": {},
   "outputs": [
    {
     "data": {
      "image/png": "[encoded data removed]",
      "text/plain": [
       "<Figure size 640x480 with 1 Axes>"
      ]
     },
     "metadata": {},
     "output_type": "display_data"
    }
   ],
   "source": [
    "# Criação do gráfico de barras empilhadas utilizando a biblioteca Seaborn\n",
    "new_palette = sns.color_palette([\"#fc8d62\", \"#66c2a5\", \"#8da0cb\", \"#e78ac3\"], desat = 1)\n",
    "\n",
    "sns.set_palette(new_palette)\n",
    "sns.set_style('whitegrid')\n",
    "sns.countplot(x=\"Status Pagamento\", data=df)\n",
    "\n",
    "# Configurações de legenda \n",
    "plt.xlabel('Status de Pagamento')\n",
    "plt.ylabel('Contagem de Clientes')\n",
    "plt.title('Contagem de Clientes por Status de Pagamento')\n",
    "\n",
    "# Exibição do gráfico\n",
    "plt.show()"
   ]
  },
  {
   "cell_type": "code",
   "execution_count": 17,
   "id": "883ad5de",
   "metadata": {},
   "outputs": [
    {
     "data": {
      "image/png": "[encoded data removed]",
      "text/plain": [
       "<Figure size 640x480 with 1 Axes>"
      ]
     },
     "metadata": {},
     "output_type": "display_data"
    }
   ],
   "source": [
    "# Calcular a contagem de valores em cada categoria\n",
    "counts = df.groupby(['Status Pagamento', 'Sexo']).size().reset_index(name='Contagem de Clientes')\n",
    "\n",
    "# Criação do gráfico de barras empilhadas utilizando a biblioteca Seaborn\n",
    "new_palette = sns.color_palette([\"#66c2a5\",\"#fc8d62\", \"#8da0cb\", \"#e78ac3\"], desat = 1)\n",
    "\n",
    "sns.set_palette(new_palette)\n",
    "sns.set_style('whitegrid')\n",
    "sns.barplot(data=counts, x='Sexo', y='Contagem de Clientes', hue='Status Pagamento')\n",
    "\n",
    "# Configurações de legenda\n",
    "plt.xlabel('Sexo')\n",
    "plt.ylabel('Contagem de Clientes')\n",
    "plt.legend(title='Status de Pagamento')\n",
    "plt.title('Contagem de Clientes por Sexo e Status de Pagamento')\n",
    "\n",
    "# Exibição do gráfico\n",
    "plt.show()"
   ]
  },
  {
   "cell_type": "code",
   "execution_count": 18,
   "id": "4e30ea2d",
   "metadata": {},
   "outputs": [
    {
     "data": {
      "image/png": "[encoded data removed]",
      "text/plain": [
       "<Figure size 640x480 with 1 Axes>"
      ]
     },
     "metadata": {},
     "output_type": "display_data"
    }
   ],
   "source": [
    "# Calcular a contagem de valores em cada categoria\n",
    "counts = df.groupby(['Status Pagamento', 'Escolaridade']).size().reset_index(name='Contagem de Clientes')\n",
    "\n",
    "# Criação do gráfico de barras empilhadas utilizando a biblioteca Seaborn\n",
    "sns.set_palette(new_palette)\n",
    "sns.set_style('whitegrid')\n",
    "sns.barplot(data=counts, x='Escolaridade', y='Contagem de Clientes', hue='Status Pagamento')\n",
    "\n",
    "# Configurações de legenda \n",
    "plt.xlabel('Escolaridade')\n",
    "plt.ylabel('Contagem de Clientes')\n",
    "plt.legend(title='Status de Pagamento')\n",
    "plt.title('Contagem de Clientes por Escolaridade e Status de Pagamento')\n",
    "\n",
    "# Exibição do gráfico\n",
    "plt.show()"
   ]
  },
  {
   "cell_type": "code",
   "execution_count": 19,
   "id": "17359ece",
   "metadata": {},
   "outputs": [
    {
     "data": {
      "image/png": "[encoded data removed]",
      "text/plain": [
       "<Figure size 640x480 with 1 Axes>"
      ]
     },
     "metadata": {},
     "output_type": "display_data"
    }
   ],
   "source": [
    "# Calcular a contagem de valores em cada categoria\n",
    "counts = df.groupby(['Status Pagamento', 'Est_Civil']).size().reset_index(name='Contagem de Clientes')\n",
    "\n",
    "# Criação do gráfico de barras empilhadas utilizando a biblioteca Seaborn\n",
    "sns.set_palette(new_palette)\n",
    "sns.set_style('whitegrid')\n",
    "sns.barplot(data=counts, x='Est_Civil', y='Contagem de Clientes', hue='Status Pagamento')\n",
    "\n",
    "# Configurações de legenda \n",
    "plt.xlabel('Status de Pagamento')\n",
    "plt.ylabel('Contagem de Clientes')\n",
    "plt.legend(title='Estado Civil')\n",
    "plt.title('Contagem de Clientes por Estado Civil e Status de Pagamento')\n",
    "\n",
    "# Exibição do gráfico\n",
    "plt.show()"
   ]
  },
  {
   "cell_type": "markdown",
   "id": "7fdc3a9c",
   "metadata": {},
   "source": [
    "A quantidade de clienteS inadimplentes é de aproximadamente 22% do total de clientes, quando visualizamos as variáveis *Sexo*, *Escolaridade* e *Estado Civil* em relação a variável *Status Pagamento*, podemos suspeitar que pessoas do sexo masculino, escolariadde ensino médio e estado civil casado, apresentam uma maior proporção de inadimplência em relação aos demais grupos de cada variável individualmente.\n",
    "\n",
    "Para poder visualizar melhor a variável *limite de crédito* criei as seguintes categorias para essas variáveis.\n",
    "\n",
    "Silver - Limite de crédito $< NT\\$ 50000$\n",
    "\n",
    "Gold - $ NT\\$ 50000 \\geq$ Limite de crédito $ < NT\\$ 250000 $\n",
    "\n",
    "Platinum - $ NT\\$ 250000 \\geq $ Limite de crédito $ < NT\\$500000$\n",
    "\n",
    "Black - Limite de crédito $ \\geq NT\\$ 500000 $"
   ]
  },
  {
   "cell_type": "code",
   "execution_count": 20,
   "id": "ed202579",
   "metadata": {},
   "outputs": [
    {
     "data": {
      "image/png": "[encoded data removed]",
      "text/plain": [
       "<Figure size 640x480 with 1 Axes>"
      ]
     },
     "metadata": {},
     "output_type": "display_data"
    }
   ],
   "source": [
    "# função que classifica os valores da coluna 'Limite_Credito'\n",
    "def categorias_credito(valor):\n",
    "    if valor < 50000:\n",
    "        return 'Silver'\n",
    "    elif valor < 250000:\n",
    "        return 'Gold'\n",
    "    elif valor < 500000:\n",
    "        return 'Platinum'\n",
    "    else:\n",
    "        return 'Black'\n",
    "\n",
    "# criar uma nova coluna 'Categorias_credito'\n",
    "df['Categorias_credito'] = df['Limite_Credito'].apply(categorias_credito)\n",
    "\n",
    "# criando o dicionário de mapeamento de categorias para valores numéricos\n",
    "mapeamento = {'Silver': 1, 'Gold': 2, 'Platinum': 3, 'Black': 4}\n",
    "\n",
    "# aplicando o mapeamento à coluna 'Categorias_credito'\n",
    "df['Categorias_credito'] = df['Categorias_credito'].map(mapeamento)\n",
    "\n",
    "# renomeando as categorias\n",
    "df['Categorias_credito'] = df['Categorias_credito'].replace({1:'Silver', 2:'Gold', 3:'Platinum', 4:'Black'})\n",
    "\n",
    "# Criação do gráfico de barras empilhadas utilizando a biblioteca Seaborn\n",
    "new_palette = sns.color_palette([\"#66c2a5\", \"#fc8d62\", \"#7890A8\" ,\"#8da0cb\"], desat = 1)\n",
    "\n",
    "sns.set_palette(new_palette)\n",
    "\n",
    "sns.set_style('whitegrid')\n",
    "sns.countplot(x=\"Categorias_credito\", data=df)\n",
    "\n",
    "# Configurações de legenda e título\n",
    "plt.xlabel('Categorias Limite de Crédito')\n",
    "plt.ylabel('Contagem de Clientes')\n",
    "plt.title('Contagem de Clientes por Categorias Limite de Crédito')\n",
    "\n",
    "# Exibição do gráfico\n",
    "plt.show()"
   ]
  },
  {
   "cell_type": "code",
   "execution_count": 21,
   "id": "a0dd59d9",
   "metadata": {
    "scrolled": false
   },
   "outputs": [
    {
     "data": {
      "image/png": "[encoded data removed]",
      "text/plain": [
       "<Figure size 640x480 with 1 Axes>"
      ]
     },
     "metadata": {},
     "output_type": "display_data"
    }
   ],
   "source": [
    "# Calcular a contagem de valores em cada categoria\n",
    "counts = df.groupby(['Status Pagamento', 'Categorias_credito']).size().reset_index(name='Contagem de Clientes')\n",
    "\n",
    "# Criação do gráfico de barras empilhadas utilizando a biblioteca Seaborn\n",
    "new_palette = sns.color_palette([\"#66c2a5\",\"#fc8d62\", \"#8da0cb\", \"#e78ac3\"], desat = 1)\n",
    "\n",
    "sns.set_palette(new_palette)\n",
    "sns.set_style('whitegrid')\n",
    "sns.barplot(data=counts, x='Categorias_credito', y='Contagem de Clientes', hue='Status Pagamento')\n",
    "\n",
    "# Configurações de legenda e título\n",
    "plt.xlabel('Categorias Limite de Crédito')\n",
    "plt.ylabel('Contagem de Clientes')\n",
    "plt.legend(title='Status de Pagamento')\n",
    "plt.title('Contagem de Clientes por Categorias Limite de Crédito e Status de Pagamento')\n",
    "\n",
    "# Exibição do gráfico\n",
    "plt.show()"
   ]
  },
  {
   "cell_type": "markdown",
   "id": "4eb7065d",
   "metadata": {},
   "source": [
    "Observe que a categoria *Silver* que é a terceira categoria com maior quantidade de clientes a que possui maior proporção de clientes com inadimplência. A categoria *Gold* é a que possui maior número de clientes, e consequentemente é a que concentra maiores quantidades de cliente de ambas as categorias, porém com uma proporção de inadimplência menor, comparada com a categoria *silver*.\n",
    "\n",
    "A seguir criei cinco faixas etárias para a variável *Idade*."
   ]
  },
  {
   "cell_type": "code",
   "execution_count": 22,
   "id": "e733ce89",
   "metadata": {},
   "outputs": [
    {
     "data": {
      "image/png": "[encoded data removed]",
      "text/plain": [
       "<Figure size 640x480 with 1 Axes>"
      ]
     },
     "metadata": {},
     "output_type": "display_data"
    }
   ],
   "source": [
    "# função que classifica os valores da coluna 'Idade'\n",
    "def faixa_etaria(valor):\n",
    "    if valor < 30:\n",
    "        return 'De 20 à 29 anos'\n",
    "    elif valor < 40:\n",
    "        return 'De 30 à 39 anos'\n",
    "    elif valor < 50:\n",
    "        return 'De 40 à 49 anos'\n",
    "    elif valor < 60:\n",
    "        return 'De 50 à 59 anos'\n",
    "    else:\n",
    "        return 'A partir de 60 anos'\n",
    "\n",
    "# criar uma nova coluna 'faixa_etaria'\n",
    "df['faixa_etaria'] = df['Idade'].apply(faixa_etaria)\n",
    "\n",
    "# criando o dicionário de mapeamento de categorias para valores numéricos\n",
    "mapeamento = {'De 20 à 29 anos': 1, 'De 30 à 39 anos': 2, 'De 40 à 49 anos': 3,\n",
    "              'De 50 à 59 anos': 4, 'A partir de 60 anos': 5}\n",
    "\n",
    "# aplicando o mapeamento à coluna 'faixa etária'\n",
    "df['faixa_etaria'] = df['faixa_etaria'].map(mapeamento)\n",
    "\n",
    "# renomeando as categorias\n",
    "df['faixa_etaria'] = df['faixa_etaria'].replace({1:'De 20 à 29 anos', 2:'De 30 à 39 anos', 3:'De 40 à 49 anos',\n",
    "                                                             4:'De 50 à 59 anos', 5:'A partir de 60 anos'})\n",
    "# Criação do gráfico de barras empilhadas utilizando a biblioteca Seaborn\n",
    "new_palette = sns.color_palette([ \"#66c2a5\",\"#fc8d62\",\"#7890A8\", \"#8da0cb\", '#e78ac3'], desat = 1)\n",
    "\n",
    "sns.set_palette(new_palette)\n",
    "sns.set_style('whitegrid')\n",
    "sns.countplot(x=\"faixa_etaria\", data=df)\n",
    "\n",
    "# Configurações de legenda e título\n",
    "plt.xlabel('Faixa Etária')\n",
    "plt.ylabel('Contagem de Clientes')\n",
    "plt.title('Contagem de Clientes por Faixa Etária')\n",
    "\n",
    "# Ajuste das labels do eixo X\n",
    "ax = plt.gca()\n",
    "ax.set_xticklabels(ax.get_xticklabels(), rotation=45, ha='right')\n",
    "\n",
    "# Exibição do gráfico\n",
    "plt.show()"
   ]
  },
  {
   "cell_type": "code",
   "execution_count": 23,
   "id": "17178ff9",
   "metadata": {},
   "outputs": [
    {
     "data": {
      "image/png": "[encoded data removed]",
      "text/plain": [
       "<Figure size 640x480 with 1 Axes>"
      ]
     },
     "metadata": {},
     "output_type": "display_data"
    }
   ],
   "source": [
    "# Calcular a contagem de valores em cada categoria\n",
    "counts = df.groupby(['Status Pagamento', 'faixa_etaria']).size().reset_index(name='Contagem de Clientes')\n",
    "\n",
    "# Criação do gráfico de barras empilhadas utilizando a biblioteca Seaborn\n",
    "sns.set_palette(new_palette)\n",
    "sns.set_style('whitegrid')\n",
    "sns.barplot(data=counts, x='faixa_etaria', y='Contagem de Clientes', hue='Status Pagamento')\n",
    "\n",
    "# Configurações de legenda e título\n",
    "plt.xlabel('Faixa Etária')\n",
    "plt.ylabel('Contagem de Clientes')\n",
    "plt.legend(title='Status de Pagamento')\n",
    "plt.title('Contagem de Clientes por Faixa Etária e Status de Pagamento')\n",
    "\n",
    "# Ajuste das labels do eixo X\n",
    "ax = plt.gca()\n",
    "ax.set_xticklabels(ax.get_xticklabels(), rotation=45, ha='right')\n",
    "\n",
    "# Exibição do gráfico\n",
    "plt.show()"
   ]
  },
  {
   "cell_type": "markdown",
   "id": "4798c906",
   "metadata": {},
   "source": [
    "A proporção de clientes inadimplentes parace ser maior a partir da faixa de 40 à 49 anos.\n",
    "\n",
    "Mas, será que essas diferenças que visualizamos são significativas do ponto de vista estatístico? Veremos isso a seguir com testes estatísticos.\n",
    "\n",
    "Do ponto de vista do negócio, deseja-se a partir dessa análise exploratória avaliar se atributos, como, sexo, escolaridade, estado civil e categoria de limite de crédito e idade estão de algumas forma associadas a inadimplência de cartão de crédito. Portanto desejamos testar as seguintes hipóteses:\n",
    "\n",
    "$H_0$ (Hipótese nula): Não existe associação entre os atributos preditivos (sexo, escolaridade, estado civil, categoria de limite de crédito e idade) e a inadimplência de clientes, que é equivalente dizer que a variável *Status Pagamento* é independente das variáveis categóricas explicativas.\n",
    "\n",
    "$H_1$ (Hipótese alternativa): É de que existe associação entre os atributos (sexo, escolaridade, estado civil, categoria de limite de crédito e idade) e o Status de Pagamento, ou seja, elas são dependentes.\n",
    "\n",
    "## Teste qui-quadrado\n",
    "\n",
    "O teste qui-quadrado pode avaliar se existe associação entre as variáveis, mas não pode determinar o grau de associação, no caso de existir associação entre as variáveis, essa associação pode ser medida pela razão de possibilidades, mais conhecida por razão de chaces ou *odds ratio*.\n",
    "\n",
    "A seguir os testes para cada uma das variáveis categóricas preditivas. O nível de significância considerado é de 5% ($ \\alpha = 0.05 $)"
   ]
  },
  {
   "cell_type": "code",
   "execution_count": 24,
   "id": "c59ce6b8",
   "metadata": {
    "scrolled": false
   },
   "outputs": [
    {
     "name": "stdout",
     "output_type": "stream",
     "text": [
      "Qui-quadrado: 47.708796890621116\n",
      "P-valor: 4.944678999412026e-12\n",
      "Graus de liberdade: 1\n",
      "Expected values:\n",
      "[[14105.6256  4006.3744]\n",
      " [ 9258.3744  2629.6256]]\n"
     ]
    },
    {
     "data": {
      "text/html": [
       "<div>\n",
       "<style scoped>\n",
       "    .dataframe tbody tr th:only-of-type {\n",
       "        vertical-align: middle;\n",
       "    }\n",
       "\n",
       "    .dataframe tbody tr th {\n",
       "        vertical-align: top;\n",
       "    }\n",
       "\n",
       "    .dataframe thead th {\n",
       "        text-align: right;\n",
       "    }\n",
       "</style>\n",
       "<table border=\"1\" class=\"dataframe\">\n",
       "  <thead>\n",
       "    <tr style=\"text-align: right;\">\n",
       "      <th>Status Pagamento</th>\n",
       "      <th>Adimplente</th>\n",
       "      <th>Inadimplente</th>\n",
       "    </tr>\n",
       "    <tr>\n",
       "      <th>Sexo</th>\n",
       "      <th></th>\n",
       "      <th></th>\n",
       "    </tr>\n",
       "  </thead>\n",
       "  <tbody>\n",
       "    <tr>\n",
       "      <th>Feminino</th>\n",
       "      <td>14349</td>\n",
       "      <td>3763</td>\n",
       "    </tr>\n",
       "    <tr>\n",
       "      <th>Masculino</th>\n",
       "      <td>9015</td>\n",
       "      <td>2873</td>\n",
       "    </tr>\n",
       "  </tbody>\n",
       "</table>\n",
       "</div>"
      ],
      "text/plain": [
       "Status Pagamento  Adimplente  Inadimplente\n",
       "Sexo                                      \n",
       "Feminino               14349          3763\n",
       "Masculino               9015          2873"
      ]
     },
     "execution_count": 24,
     "metadata": {},
     "output_type": "execute_result"
    }
   ],
   "source": [
    "from scipy.stats import chi2_contingency\n",
    "\n",
    "# Cria uma tabela de contingência entre as variáveis sexo e inadimplência\n",
    "contingency_table = pd.crosstab(df['Sexo'], df['Status Pagamento'])\n",
    "\n",
    "# Aplica o teste qui-quadrado\n",
    "stat, p, dof, expected = chi2_contingency(contingency_table)\n",
    "\n",
    "# Imprime os resultados do teste\n",
    "print(f\"Qui-quadrado: {stat}\")\n",
    "print(f\"P-valor: {p}\")\n",
    "print(f\"Graus de liberdade: {dof}\")\n",
    "print(\"Expected values:\") \n",
    "print(expected)\n",
    "contingency_table"
   ]
  },
  {
   "cell_type": "code",
   "execution_count": 25,
   "id": "791b6cdc",
   "metadata": {},
   "outputs": [
    {
     "name": "stdout",
     "output_type": "stream",
     "text": [
      "Qui-quadrado: 160.40995107224546\n",
      "P-valor: 1.4950645648106153e-34\n",
      "Graus de liberdade: 3\n",
      "Expected values:\n",
      "[[ 3829.3596  1087.6404]\n",
      " [10926.564   3103.436 ]\n",
      " [  364.4784   103.5216]\n",
      " [ 8243.598   2341.402 ]]\n"
     ]
    },
    {
     "data": {
      "text/html": [
       "<div>\n",
       "<style scoped>\n",
       "    .dataframe tbody tr th:only-of-type {\n",
       "        vertical-align: middle;\n",
       "    }\n",
       "\n",
       "    .dataframe tbody tr th {\n",
       "        vertical-align: top;\n",
       "    }\n",
       "\n",
       "    .dataframe thead th {\n",
       "        text-align: right;\n",
       "    }\n",
       "</style>\n",
       "<table border=\"1\" class=\"dataframe\">\n",
       "  <thead>\n",
       "    <tr style=\"text-align: right;\">\n",
       "      <th>Status Pagamento</th>\n",
       "      <th>Adimplente</th>\n",
       "      <th>Inadimplente</th>\n",
       "    </tr>\n",
       "    <tr>\n",
       "      <th>Escolaridade</th>\n",
       "      <th></th>\n",
       "      <th></th>\n",
       "    </tr>\n",
       "  </thead>\n",
       "  <tbody>\n",
       "    <tr>\n",
       "      <th>Ensino médio</th>\n",
       "      <td>3680</td>\n",
       "      <td>1237</td>\n",
       "    </tr>\n",
       "    <tr>\n",
       "      <th>Graduação</th>\n",
       "      <td>10700</td>\n",
       "      <td>3330</td>\n",
       "    </tr>\n",
       "    <tr>\n",
       "      <th>Outros</th>\n",
       "      <td>435</td>\n",
       "      <td>33</td>\n",
       "    </tr>\n",
       "    <tr>\n",
       "      <th>Pós-graduação</th>\n",
       "      <td>8549</td>\n",
       "      <td>2036</td>\n",
       "    </tr>\n",
       "  </tbody>\n",
       "</table>\n",
       "</div>"
      ],
      "text/plain": [
       "Status Pagamento  Adimplente  Inadimplente\n",
       "Escolaridade                              \n",
       "Ensino médio            3680          1237\n",
       "Graduação              10700          3330\n",
       "Outros                   435            33\n",
       "Pós-graduação           8549          2036"
      ]
     },
     "execution_count": 25,
     "metadata": {},
     "output_type": "execute_result"
    }
   ],
   "source": [
    "contingency_table = pd.crosstab(df['Escolaridade'], df['Status Pagamento'])\n",
    "\n",
    "# Aplica o teste qui-quadrado\n",
    "stat, p, dof, expected = chi2_contingency(contingency_table)\n",
    "\n",
    "# Imprime os resultados do teste\n",
    "print(f\"Qui-quadrado: {stat}\")\n",
    "print(f\"P-valor: {p}\")\n",
    "print(f\"Graus de liberdade: {dof}\")\n",
    "print(\"Expected values:\")\n",
    "print(expected)\n",
    "contingency_table"
   ]
  },
  {
   "cell_type": "code",
   "execution_count": 26,
   "id": "c509bb6d",
   "metadata": {},
   "outputs": [
    {
     "name": "stdout",
     "output_type": "stream",
     "text": [
      "Qui-quadrado: 28.13032464482199\n",
      "P-valor: 7.790720364202813e-07\n",
      "Graus de liberdade: 2\n",
      "Expected values:\n",
      "[[10637.6292  3021.3708]\n",
      " [  293.6076    83.3924]\n",
      " [12432.7632  3531.2368]]\n"
     ]
    },
    {
     "data": {
      "text/html": [
       "<div>\n",
       "<style scoped>\n",
       "    .dataframe tbody tr th:only-of-type {\n",
       "        vertical-align: middle;\n",
       "    }\n",
       "\n",
       "    .dataframe tbody tr th {\n",
       "        vertical-align: top;\n",
       "    }\n",
       "\n",
       "    .dataframe thead th {\n",
       "        text-align: right;\n",
       "    }\n",
       "</style>\n",
       "<table border=\"1\" class=\"dataframe\">\n",
       "  <thead>\n",
       "    <tr style=\"text-align: right;\">\n",
       "      <th>Status Pagamento</th>\n",
       "      <th>Adimplente</th>\n",
       "      <th>Inadimplente</th>\n",
       "    </tr>\n",
       "    <tr>\n",
       "      <th>Est_Civil</th>\n",
       "      <th></th>\n",
       "      <th></th>\n",
       "    </tr>\n",
       "  </thead>\n",
       "  <tbody>\n",
       "    <tr>\n",
       "      <th>Casado</th>\n",
       "      <td>10453</td>\n",
       "      <td>3206</td>\n",
       "    </tr>\n",
       "    <tr>\n",
       "      <th>Outros</th>\n",
       "      <td>288</td>\n",
       "      <td>89</td>\n",
       "    </tr>\n",
       "    <tr>\n",
       "      <th>Solteiro</th>\n",
       "      <td>12623</td>\n",
       "      <td>3341</td>\n",
       "    </tr>\n",
       "  </tbody>\n",
       "</table>\n",
       "</div>"
      ],
      "text/plain": [
       "Status Pagamento  Adimplente  Inadimplente\n",
       "Est_Civil                                 \n",
       "Casado                 10453          3206\n",
       "Outros                   288            89\n",
       "Solteiro               12623          3341"
      ]
     },
     "execution_count": 26,
     "metadata": {},
     "output_type": "execute_result"
    }
   ],
   "source": [
    "contingency_table = pd.crosstab(df['Est_Civil'], df['Status Pagamento'])\n",
    "\n",
    "# Aplica o teste qui-quadrado\n",
    "stat, p, dof, expected = chi2_contingency(contingency_table)\n",
    "\n",
    "# Imprime os resultados do teste\n",
    "print(f\"Qui-quadrado: {stat}\")\n",
    "print(f\"P-valor: {p}\")\n",
    "print(f\"Graus de liberdade: {dof}\")\n",
    "print(\"Expected values:\")\n",
    "print(expected)\n",
    "contingency_table"
   ]
  },
  {
   "cell_type": "code",
   "execution_count": 27,
   "id": "4573c590",
   "metadata": {},
   "outputs": [
    {
     "name": "stdout",
     "output_type": "stream",
     "text": [
      "Qui-quadrado: 763.7881018002082\n",
      "P-valor: 3.086846414235927e-165\n",
      "Graus de liberdade: 3\n",
      "Expected values:\n",
      "[[  722.7264   205.2736]\n",
      " [14502.8136  4119.1864]\n",
      " [ 4781.0532  1357.9468]\n",
      " [ 3357.4068   953.5932]]\n"
     ]
    },
    {
     "data": {
      "text/html": [
       "<div>\n",
       "<style scoped>\n",
       "    .dataframe tbody tr th:only-of-type {\n",
       "        vertical-align: middle;\n",
       "    }\n",
       "\n",
       "    .dataframe tbody tr th {\n",
       "        vertical-align: top;\n",
       "    }\n",
       "\n",
       "    .dataframe thead th {\n",
       "        text-align: right;\n",
       "    }\n",
       "</style>\n",
       "<table border=\"1\" class=\"dataframe\">\n",
       "  <thead>\n",
       "    <tr style=\"text-align: right;\">\n",
       "      <th>Status Pagamento</th>\n",
       "      <th>Adimplente</th>\n",
       "      <th>Inadimplente</th>\n",
       "    </tr>\n",
       "    <tr>\n",
       "      <th>Categorias_credito</th>\n",
       "      <th></th>\n",
       "      <th></th>\n",
       "    </tr>\n",
       "  </thead>\n",
       "  <tbody>\n",
       "    <tr>\n",
       "      <th>Black</th>\n",
       "      <td>824</td>\n",
       "      <td>104</td>\n",
       "    </tr>\n",
       "    <tr>\n",
       "      <th>Gold</th>\n",
       "      <td>14529</td>\n",
       "      <td>4093</td>\n",
       "    </tr>\n",
       "    <tr>\n",
       "      <th>Platinum</th>\n",
       "      <td>5255</td>\n",
       "      <td>884</td>\n",
       "    </tr>\n",
       "    <tr>\n",
       "      <th>Silver</th>\n",
       "      <td>2756</td>\n",
       "      <td>1555</td>\n",
       "    </tr>\n",
       "  </tbody>\n",
       "</table>\n",
       "</div>"
      ],
      "text/plain": [
       "Status Pagamento    Adimplente  Inadimplente\n",
       "Categorias_credito                          \n",
       "Black                      824           104\n",
       "Gold                     14529          4093\n",
       "Platinum                  5255           884\n",
       "Silver                    2756          1555"
      ]
     },
     "execution_count": 27,
     "metadata": {},
     "output_type": "execute_result"
    }
   ],
   "source": [
    "contingency_table = pd.crosstab(df['Categorias_credito'], df['Status Pagamento'])\n",
    "\n",
    "# Aplica o teste qui-quadrado\n",
    "stat, p, dof, expected = chi2_contingency(contingency_table)\n",
    "\n",
    "# Imprime os resultados do teste\n",
    "print(f\"Qui-quadrado: {stat}\")\n",
    "print(f\"P-valor: {p}\")\n",
    "print(f\"Graus de liberdade: {dof}\")\n",
    "print(\"Expected values:\") \n",
    "print(expected)\n",
    "contingency_table"
   ]
  },
  {
   "cell_type": "code",
   "execution_count": 28,
   "id": "6c87f2c6",
   "metadata": {},
   "outputs": [
    {
     "name": "stdout",
     "output_type": "stream",
     "text": [
      "Qui-quadrado: 46.16525003256573\n",
      "P-valor: 2.2753444498438286e-09\n",
      "Graus de liberdade: 4\n",
      "Expected values:\n",
      "[[ 264.0132   74.9868]\n",
      " [7490.4984 2127.5016]\n",
      " [8752.1544 2485.8456]\n",
      " [5034.1632 1429.8368]\n",
      " [1823.1708  517.8292]]\n"
     ]
    },
    {
     "data": {
      "text/html": [
       "<div>\n",
       "<style scoped>\n",
       "    .dataframe tbody tr th:only-of-type {\n",
       "        vertical-align: middle;\n",
       "    }\n",
       "\n",
       "    .dataframe tbody tr th {\n",
       "        vertical-align: top;\n",
       "    }\n",
       "\n",
       "    .dataframe thead th {\n",
       "        text-align: right;\n",
       "    }\n",
       "</style>\n",
       "<table border=\"1\" class=\"dataframe\">\n",
       "  <thead>\n",
       "    <tr style=\"text-align: right;\">\n",
       "      <th>Status Pagamento</th>\n",
       "      <th>Adimplente</th>\n",
       "      <th>Inadimplente</th>\n",
       "    </tr>\n",
       "    <tr>\n",
       "      <th>faixa_etaria</th>\n",
       "      <th></th>\n",
       "      <th></th>\n",
       "    </tr>\n",
       "  </thead>\n",
       "  <tbody>\n",
       "    <tr>\n",
       "      <th>A partir de 60 anos</th>\n",
       "      <td>243</td>\n",
       "      <td>96</td>\n",
       "    </tr>\n",
       "    <tr>\n",
       "      <th>De 20 à 29 anos</th>\n",
       "      <td>7421</td>\n",
       "      <td>2197</td>\n",
       "    </tr>\n",
       "    <tr>\n",
       "      <th>De 30 à 39 anos</th>\n",
       "      <td>8962</td>\n",
       "      <td>2276</td>\n",
       "    </tr>\n",
       "    <tr>\n",
       "      <th>De 40 à 49 anos</th>\n",
       "      <td>4979</td>\n",
       "      <td>1485</td>\n",
       "    </tr>\n",
       "    <tr>\n",
       "      <th>De 50 à 59 anos</th>\n",
       "      <td>1759</td>\n",
       "      <td>582</td>\n",
       "    </tr>\n",
       "  </tbody>\n",
       "</table>\n",
       "</div>"
      ],
      "text/plain": [
       "Status Pagamento     Adimplente  Inadimplente\n",
       "faixa_etaria                                 \n",
       "A partir de 60 anos         243            96\n",
       "De 20 à 29 anos            7421          2197\n",
       "De 30 à 39 anos            8962          2276\n",
       "De 40 à 49 anos            4979          1485\n",
       "De 50 à 59 anos            1759           582"
      ]
     },
     "execution_count": 28,
     "metadata": {},
     "output_type": "execute_result"
    }
   ],
   "source": [
    "contingency_table = pd.crosstab(df['faixa_etaria'], df['Status Pagamento'])\n",
    "\n",
    "# Aplica o teste qui-quadrado\n",
    "stat, p, dof, expected = chi2_contingency(contingency_table)\n",
    "\n",
    "# Imprime os resultados do teste\n",
    "print(f\"Qui-quadrado: {stat}\")\n",
    "print(f\"P-valor: {p}\")\n",
    "print(f\"Graus de liberdade: {dof}\")\n",
    "print(\"Expected values:\") \n",
    "print(expected)\n",
    "contingency_table"
   ]
  },
  {
   "cell_type": "markdown",
   "id": "edc527b2",
   "metadata": {},
   "source": [
    "**Conclusão do teste qui-quadrado:** A hipótese de associação entre as variáveis foi aceita para todas as variáveis preditivas avaliadas, ou seja, o sexo, a escolaridade, o estado civil, a categoria de limite de crédito e a faixa etária estão associadas ao status de pagamento. A seguir é obtida a razão de chances para cada uma das variáveis. Lembrando que quando duas variáveis estão associadas isso não quer dizer necessariamente que exista uma relação de causa e efeito, apenas algum grau de associação.\n",
    "\n",
    "## Razão de Chances\n",
    "\n",
    "A razão de chances pode ser definida como a razão entre a chance de um determinado evento acontecer em um grupo 1 (G1) e a chance desse mesmo evento acontecer no grupo 2 (G2). A chance é obtida pela a razão entre a probabilidade de ocorrência de um determinado evento de interesse e a probabilidade desse evento não acontecer. Para ilustrar utilizei a variável *sexo*, como exemplo:\n",
    "\n",
    "Considere o G1 (Masculino) e G2 (Feminino) qual a chance de inadimplência para ambos os grupos? Da tabela de contigência anterior, temos o seguinte:\n",
    "\n",
    "$ ChanceF = \\frac{3762}{14349} $ e $ ChanceM = \\frac{2873}{9017} $\n",
    "\n",
    "Temos a chance para cada um dos grupos, neste caso, basta dividir uma pela a outra e obtemos a razão de chances. Neste caso, suspeitamos que clientes do sexo masculino tenham maior chance de inadimplência se comparado com cliente do sexo feminino, então, o sexo feminino será nossa variável de referência, o cálculo fica da seguinte maneira:\n",
    "\n",
    "$ OR (odds \\hspace{0.2cm} ratio) = \\frac{ChanceM}{ChanceF} = 1.21$\n",
    "\n",
    "A seguir são obtidas as razões de chances para as variáveis a partir da tabela de contigência.\n",
    "\n",
    "**Razão de chance de inadimplência entre cliente do sexo masculino em relação a clientes do sexo feminino**"
   ]
  },
  {
   "cell_type": "code",
   "execution_count": 29,
   "id": "bf9ac0e1",
   "metadata": {},
   "outputs": [
    {
     "name": "stdout",
     "output_type": "stream",
     "text": [
      "Razão de Chances Masculino e Feminino: 1.215226725941307\n"
     ]
    }
   ],
   "source": [
    "contingency_table = pd.crosstab(df['Sexo'], df['Status Pagamento'])\n",
    "\n",
    "chanceM = contingency_table.loc['Masculino', 'Inadimplente'] / contingency_table.loc['Masculino', 'Adimplente']\n",
    "chanceF = contingency_table.loc['Feminino', 'Inadimplente'] / contingency_table.loc['Feminino', 'Adimplente']\n",
    "OR = chanceM/chanceF\n",
    "print('Razão de Chances Masculino e Feminino: {}'.format(OR))"
   ]
  },
  {
   "cell_type": "markdown",
   "id": "9f3c3561",
   "metadata": {},
   "source": [
    "Uma razão de chance de 1.21, significa que clientes do sexo masculino possuem 21% mais chance de ficarem inadimplentes em relação os clientes do sexo feminino.\n",
    "\n",
    "**Razão de chance de inadimplência entre os níveis de escolaridade, tendo como referência clientes com pós-graduação**"
   ]
  },
  {
   "cell_type": "code",
   "execution_count": 30,
   "id": "1c21133b",
   "metadata": {},
   "outputs": [
    {
     "name": "stdout",
     "output_type": "stream",
     "text": [
      "Razão de Chances Ensino médio e Pós-graduação: 1.4114302607414366\n",
      "Razão de Chances Graduação e Pós-graduação: 1.3067665203899896\n",
      "Razão de Chances Outros e Pós-graduação: 0.3185387168890996\n"
     ]
    }
   ],
   "source": [
    "contingency_table = pd.crosstab(df['Escolaridade'], df['Status Pagamento'])\n",
    "\n",
    "chanceE = contingency_table.loc['Ensino médio', 'Inadimplente'] / contingency_table.loc['Ensino médio', 'Adimplente']\n",
    "chanceG = contingency_table.loc['Graduação', 'Inadimplente'] / contingency_table.loc['Graduação', 'Adimplente']\n",
    "chanceO = contingency_table.loc['Outros', 'Inadimplente'] / contingency_table.loc['Outros', 'Adimplente']\n",
    "chanceP = contingency_table.loc['Pós-graduação', 'Inadimplente'] / contingency_table.loc['Pós-graduação', 'Adimplente']\n",
    "OR_Med = chanceE/chanceP\n",
    "OR_Grad = chanceG/chanceP\n",
    "OR_Outros = chanceO/chanceP                   \n",
    "print('Razão de Chances Ensino médio e Pós-graduação: {}'.format(OR_Med))\n",
    "print('Razão de Chances Graduação e Pós-graduação: {}'.format(OR_Grad))\n",
    "print('Razão de Chances Outros e Pós-graduação: {}'.format(OR_Outros))                                          "
   ]
  },
  {
   "cell_type": "markdown",
   "id": "0dec3b02",
   "metadata": {},
   "source": [
    "Cliente com ensino médio e graduação possuem, respectivamente, 41% e 31% mais chance de inadimplência em relação a clientes com pós-graduação. Clientes que não possui nem ensino médio, nem graduação tem 69% menos chance de ficar inadimplente em relação a pós-graduados.\n",
    "\n",
    "**Razão de chance de inadimplência entre estado civil, tendo como referência clientes casados**"
   ]
  },
  {
   "cell_type": "code",
   "execution_count": 31,
   "id": "ef106ce1",
   "metadata": {},
   "outputs": [
    {
     "name": "stdout",
     "output_type": "stream",
     "text": [
      "Razão de Chances Outros e Casado: 1.0075693578013447\n",
      "Razão de Chances Solteiro e Casado: 0.8629613115984255\n"
     ]
    }
   ],
   "source": [
    "contingency_table = pd.crosstab(df['Est_Civil'], df['Status Pagamento'])\n",
    "\n",
    "chanceC = contingency_table.loc['Casado', 'Inadimplente'] / contingency_table.loc['Casado', 'Adimplente']\n",
    "chanceO = contingency_table.loc['Outros', 'Inadimplente'] / contingency_table.loc['Outros', 'Adimplente']\n",
    "chanceS = contingency_table.loc['Solteiro', 'Inadimplente'] / contingency_table.loc['Solteiro', 'Adimplente']\n",
    "OR_Outros = chanceO/chanceC\n",
    "OR_Solteiro = chanceS/chanceC  \n",
    "print('Razão de Chances Outros e Casado: {}'.format(OR_Outros))\n",
    "print('Razão de Chances Solteiro e Casado: {}'.format(OR_Solteiro))"
   ]
  },
  {
   "cell_type": "markdown",
   "id": "cb13c0c9",
   "metadata": {},
   "source": [
    "Clientes com estado civil não definido (outros) e casados, não possui nenhuma associação. Já os clientes solteiros possui 14% menos chances de ficar inadimplente se comprarado com cliente casados. Conforme suspeitava-se clientes casados tem maior chance de inadimplência que os clientes solteiros.\n",
    "\n",
    "**Razão de chance de inadimplência entre categorias de credito, tendo como referência clientes Black**"
   ]
  },
  {
   "cell_type": "code",
   "execution_count": 32,
   "id": "09cb0628",
   "metadata": {},
   "outputs": [
    {
     "name": "stdout",
     "output_type": "stream",
     "text": [
      "Razão de Chances entre Gold e Black: 2.232029310080105\n",
      "Razão de Chances entre Platinum e Black: 1.3328258801141768\n",
      "Razão de Chances entre Silver e Black: 4.470386290052473\n"
     ]
    }
   ],
   "source": [
    "contingency_table = pd.crosstab(df['Categorias_credito'], df['Status Pagamento'])\n",
    "\n",
    "chanceS = contingency_table.loc['Silver', 'Inadimplente'] / contingency_table.loc['Silver', 'Adimplente']\n",
    "chanceG = contingency_table.loc['Gold', 'Inadimplente'] / contingency_table.loc['Gold', 'Adimplente']\n",
    "chanceP = contingency_table.loc['Platinum', 'Inadimplente'] / contingency_table.loc['Platinum', 'Adimplente']\n",
    "chanceB = contingency_table.loc['Black', 'Inadimplente'] / contingency_table.loc['Black', 'Adimplente']\n",
    "OR_Gold = chanceG/chanceB\n",
    "OR_Platinum = chanceP/chanceB\n",
    "OR_Silver = chanceS/chanceB\n",
    "print('Razão de Chances entre Gold e Black: {}'.format(OR_Gold))\n",
    "print('Razão de Chances entre Platinum e Black: {}'.format(OR_Platinum))\n",
    "print('Razão de Chances entre Silver e Black: {}'.format(OR_Silver))"
   ]
  },
  {
   "cell_type": "markdown",
   "id": "f2ee65e9",
   "metadata": {},
   "source": [
    "A interpretação segue a mesma lógica usada nas interpretações anteriores. Pode-se observar que os clientes que tendem a ter maior inadimplência estão na categoria Silver.\n",
    "\n",
    "**Razão de chance de inadimplência entre faixa etária, tendo como referência clientes de 30 à 39 anos**"
   ]
  },
  {
   "cell_type": "code",
   "execution_count": 33,
   "id": "8fbbe024",
   "metadata": {},
   "outputs": [
    {
     "name": "stdout",
     "output_type": "stream",
     "text": [
      "Razão de Chances De 40 à 49 anos e De 30 à 39 anos: 1.174402614001654\n",
      "Razão de Chances De 50 à 59 anos e De 30 à 39 anos: 1.30283622964398\n",
      "Razão de Chances A partir de 60 anos e De 30 à 39 anos: 1.5555989498578835\n",
      "Razão de Chances De 20 à 29 anos e De 30 à 39 anos: 1.1657362649906489\n"
     ]
    }
   ],
   "source": [
    "contingency_table = pd.crosstab(df['faixa_etaria'], df['Status Pagamento'])\n",
    "\n",
    "chance1 = contingency_table.loc['A partir de 60 anos','Inadimplente']/contingency_table.loc['A partir de 60 anos', 'Adimplente']\n",
    "chance2 = contingency_table.loc['De 20 à 29 anos', 'Inadimplente'] / contingency_table.loc['De 20 à 29 anos', 'Adimplente']\n",
    "chance3 = contingency_table.loc['De 30 à 39 anos', 'Inadimplente'] / contingency_table.loc['De 30 à 39 anos', 'Adimplente']\n",
    "chance4 = contingency_table.loc['De 40 à 49 anos', 'Inadimplente'] / contingency_table.loc['De 40 à 49 anos', 'Adimplente']\n",
    "chance5 = contingency_table.loc['De 50 à 59 anos', 'Inadimplente'] / contingency_table.loc['De 50 à 59 anos', 'Adimplente']\n",
    "OR_4 = chance4/chance3\n",
    "OR_5 = chance5/chance3\n",
    "OR_1 = chance1/chance3\n",
    "OR_2 = chance2/chance3\n",
    "print('Razão de Chances De 40 à 49 anos e De 30 à 39 anos: {}'.format(OR_4))\n",
    "print('Razão de Chances De 50 à 59 anos e De 30 à 39 anos: {}'.format(OR_5))\n",
    "print('Razão de Chances A partir de 60 anos e De 30 à 39 anos: {}'.format(OR_1))\n",
    "print('Razão de Chances De 20 à 29 anos e De 30 à 39 anos: {}'.format(OR_2))"
   ]
  },
  {
   "cell_type": "markdown",
   "id": "520e4f36",
   "metadata": {},
   "source": [
    "Observe que razão de chance inferior a 1, significa que o grupo em questão tem menos chance do que o grupo utilizado como referência. [Neste link](https://rpubs.com/fagna/1040245) poderá ser visualizada a análise feita em R, com os respectivos intervalos de confiânça.\n",
    "\n",
    "Na análise em R, inverti as faixas etárias para que a interpretação ficasse mais fácil, neste caso, cliente com idade entre 30 e 39 anos possui menos chance de inadimplência se comparado com os demais, e foi a categoria utilizada como referência. Utilizei também o Power BI para visualizar os dados e obter insights, [acesse o visual neste link](https://app.powerbi.com/view?r=eyJrIjoiMzNlYTA0YmUtMDRiOC00NWU4LWE0MDAtMGIxYjc5ZDdjNDEyIiwidCI6ImVmODAxNDBiLTE1MGQtNDY0Yy04ZGY4LTUwZGNjMmMyMzk2YyJ9).\n",
    "\n",
    "\n",
    "Retornando as variáveis para o tipo númerico."
   ]
  },
  {
   "cell_type": "code",
   "execution_count": 34,
   "id": "28bc0bcd",
   "metadata": {},
   "outputs": [],
   "source": [
    "df['Status Pagamento'] = df['Status Pagamento'].replace({'Inadimplente':1 , 'Adimplente':0})\n",
    "df['Sexo'] = df['Sexo'].replace({'Masculino':1, 'Feminino':2})\n",
    "df['Escolaridade'] = df['Escolaridade'].replace({'Pós-graduação':1,'Graduação':2,'Ensino médio':3,'Outros':4})\n",
    "df['Est_Civil'] = df['Est_Civil'].replace({'Casado':1, 'Solteiro':2, 'Outros':3})"
   ]
  },
  {
   "cell_type": "markdown",
   "id": "16ecbb92",
   "metadata": {},
   "source": [
    "## Modelagem \n",
    "\n",
    "O modelo apresentado utiliza as variáveis originais. Portanto, utilizei as variáveis *limite de crédito* e *idade* ao invés de usar as categorias ou faixa etária criadas.\n",
    "\n",
    "Para este caso, a ideia é obter um modelo capaz de prever a probabilidade de o cliente ficar inadimplente no próximo mês, ao invés da classificação em si. Como uma única metrica de avaliação de modelo em muitas situações não é suficiente para tomar a melhor decisão, varias métricas foram utilizadas neste caso. \n",
    "\n",
    "Do ponto de vista do negócio, imagine que a empresa deseja enviar uma mensagem para os clientes que tiverem maior probabilidade de inadimplência (ou assim sejam classificados), com intuito de incentivar o pagamento da fatura até o vencimento. O que seria péssimo para empresa neste caso seria o modelo prever que o cliente o status de pagamento será adimplente, quando na verdade será inadimplente, ou seja, o modelo prever que o cliente vai pagar quando na verdade ele não vai, e neste caso a empresa deixou de enviar um incentivo para aquele cliente. Então, considerando esse contexto, desejamos então o menor número possível de *falsos negativos (FN)* ao mesmo tempo que queremos o modelo com a maior probabilidade de acerto na classe positiva. \n",
    "\n",
    "\n",
    "## Divisão previsões e classe"
   ]
  },
  {
   "cell_type": "code",
   "execution_count": 35,
   "id": "fa8125e2",
   "metadata": {},
   "outputs": [
    {
     "data": {
      "text/plain": [
       "array([[ 20000,      2,      2, ...,      0,      0,      0],\n",
       "       [120000,      2,      2, ...,   1000,      0,   2000],\n",
       "       [ 90000,      2,      2, ...,   1000,   1000,   5000],\n",
       "       ...,\n",
       "       [ 30000,      1,      2, ...,   4200,   2000,   3100],\n",
       "       [ 80000,      1,      3, ...,   1926,  52964,   1804],\n",
       "       [ 50000,      1,      2, ...,   1000,   1000,   1000]], dtype=int64)"
      ]
     },
     "execution_count": 35,
     "metadata": {},
     "output_type": "execute_result"
    }
   ],
   "source": [
    "X_df = df.iloc[:, [0,1,2,3,4,5,6,7,8,9,10,11,12,13,14,15,16,17,18,19,20,21,22]].values \n",
    "X_df"
   ]
  },
  {
   "cell_type": "code",
   "execution_count": 36,
   "id": "c33b6a17",
   "metadata": {},
   "outputs": [
    {
     "data": {
      "text/plain": [
       "array([1, 1, 0, ..., 1, 1, 1], dtype=int64)"
      ]
     },
     "execution_count": 36,
     "metadata": {},
     "output_type": "execute_result"
    }
   ],
   "source": [
    "y_df = df.iloc[:, 23].values\n",
    "y_df"
   ]
  },
  {
   "cell_type": "markdown",
   "id": "d4fc7bcd",
   "metadata": {},
   "source": [
    "## Escalonamento de variáveis"
   ]
  },
  {
   "cell_type": "code",
   "execution_count": 37,
   "id": "234ed70d",
   "metadata": {},
   "outputs": [
    {
     "data": {
      "text/plain": [
       "array([-1.13672015,  0.81016074,  0.21186989, -1.06879721, -1.24601985,\n",
       "        1.79456386,  1.78234817, -0.69666346, -0.66659873, -1.53004603,\n",
       "       -1.48604076, -0.64250107, -0.64739923, -0.66799331, -0.67249727,\n",
       "       -0.66305853, -0.65272422, -0.34194162, -0.22708564, -0.29680127,\n",
       "       -0.30806256, -0.31413612, -0.29338206])"
      ]
     },
     "execution_count": 37,
     "metadata": {},
     "output_type": "execute_result"
    }
   ],
   "source": [
    "from sklearn.preprocessing import StandardScaler\n",
    "scaler_census = StandardScaler()\n",
    "X_df = scaler_census.fit_transform(X_df)\n",
    "X_df[0]"
   ]
  },
  {
   "cell_type": "markdown",
   "id": "4281bf8a",
   "metadata": {},
   "source": [
    "## Divisão entre treinamento e teste"
   ]
  },
  {
   "cell_type": "code",
   "execution_count": 38,
   "id": "e84d9434",
   "metadata": {},
   "outputs": [],
   "source": [
    "from sklearn.model_selection import train_test_split\n",
    "seed=1336\n",
    "np.random.seed(seed)\n",
    "X_train, X_test, y_train, y_test = train_test_split(X_df, y_df, test_size = 0.30, stratify = y_df)"
   ]
  },
  {
   "cell_type": "code",
   "execution_count": 39,
   "id": "cc59ee8c",
   "metadata": {},
   "outputs": [
    {
     "data": {
      "text/plain": [
       "((21000, 23), (21000,))"
      ]
     },
     "execution_count": 39,
     "metadata": {},
     "output_type": "execute_result"
    }
   ],
   "source": [
    "X_train.shape, y_train.shape"
   ]
  },
  {
   "cell_type": "code",
   "execution_count": 40,
   "id": "79d7b4c8",
   "metadata": {},
   "outputs": [
    {
     "data": {
      "text/plain": [
       "((9000, 23), (9000,))"
      ]
     },
     "execution_count": 40,
     "metadata": {},
     "output_type": "execute_result"
    }
   ],
   "source": [
    "X_test.shape, y_test.shape"
   ]
  },
  {
   "cell_type": "markdown",
   "id": "6612c901",
   "metadata": {},
   "source": [
    "## Modelos de Machine Learning "
   ]
  },
  {
   "cell_type": "code",
   "execution_count": 41,
   "id": "df884541",
   "metadata": {},
   "outputs": [],
   "source": [
    "from sklearn.ensemble import RandomForestClassifier\n",
    "from sklearn.linear_model import LogisticRegression\n",
    "import xgboost as xgb\n",
    "import lightgbm as lgb\n",
    "from catboost import CatBoostClassifier\n",
    "from sklearn.neural_network import MLPClassifier\n",
    "from sklearn.metrics import roc_auc_score\n",
    "from sklearn.metrics import classification_report\n",
    "from sklearn.model_selection import cross_val_score\n",
    "from sklearn.model_selection import cross_val_predict\n",
    "from sklearn.metrics import confusion_matrix"
   ]
  },
  {
   "cell_type": "markdown",
   "id": "02ddf8bf",
   "metadata": {},
   "source": [
    "Observe que utilizo tanto o *predict* - capacidade do modelo de distinguir entre ambas as classes, quanto o *predict_proba* - capacidade de classificar corretamente a classe positiva, e para ambos avalio usando a *Area Under the Curve* (AUC).\n",
    "\n",
    "### Random Forest"
   ]
  },
  {
   "cell_type": "code",
   "execution_count": 42,
   "id": "ec6bbed9",
   "metadata": {},
   "outputs": [
    {
     "name": "stdout",
     "output_type": "stream",
     "text": [
      "Resultado Fase de Treinamento\n",
      "Pontações da validação cruzada (acurácia) [0.81404762 0.82428571 0.82166667 0.82261905 0.815     ]\n",
      "Média das pontuação da validação cruzada (acurácia):0.8195238095238097\n",
      "\n",
      "AUC probabilidade (Random Forest) - Treino: 0.850542481322145\n",
      "\n",
      "AUC previsão (Random Forest) - Treino: 0.6959816819958411\n",
      "Classificação report do Random Forest (Treino):\n",
      "               precision    recall  f1-score   support\n",
      "\n",
      "           0       0.86      0.97      0.91     16355\n",
      "           1       0.78      0.43      0.55      4645\n",
      "\n",
      "    accuracy                           0.85     21000\n",
      "   macro avg       0.82      0.70      0.73     21000\n",
      "weighted avg       0.84      0.85      0.83     21000\n",
      "\n",
      "Resultado Fase de Teste\n",
      "\n",
      "AUC probabilidade (Random Forest) - Teste: 0.7861746456572052\n",
      "\n",
      "AUC previsão (Random Forest) - Teste: 0.6570898046774761\n",
      "Matriz de confusão AUC (Random Forest) - Teste:\n",
      "[[6687  322]\n",
      " [1274  717]]\n",
      "Classificação report do Random Forest (Teste):\n",
      "               precision    recall  f1-score   support\n",
      "\n",
      "           0       0.84      0.95      0.89      7009\n",
      "           1       0.69      0.36      0.47      1991\n",
      "\n",
      "    accuracy                           0.82      9000\n",
      "   macro avg       0.77      0.66      0.68      9000\n",
      "weighted avg       0.81      0.82      0.80      9000\n",
      "\n"
     ]
    }
   ],
   "source": [
    "def run_random_forest(X_train, X_test, y_train, y_test):\n",
    "    rf = RandomForestClassifier(random_state=0, n_estimators=100, max_depth=10, min_samples_split=5, \n",
    "                                min_samples_leaf=8, max_features=9)\n",
    "    rf.fit(X_train, y_train) #treinando o modelo\n",
    "    score = cross_val_score(rf, X_train, y_train, cv=5, scoring='accuracy')\n",
    "    print('Resultado Fase de Treinamento')\n",
    "    print(\"Pontações da validação cruzada (acurácia) {}\".format(score))\n",
    "    print(\"Média das pontuação da validação cruzada (acurácia):{}\".format(score.mean()))\n",
    "    \n",
    "    pred_proba_train = rf.predict_proba(X_train)[:, 1] # Probabilidade da classe positiva para os dados de treino\n",
    "    print('\\nAUC probabilidade (Random Forest) - Treino: {}'.format(roc_auc_score(y_train, pred_proba_train)))\n",
    "    pred_class_train = rf.predict(X_train) # previsão classe positiva para os dados de treino \n",
    "    print('\\nAUC previsão (Random Forest) - Treino: {}'.format(roc_auc_score(y_train, pred_class_train)))\n",
    "    print('Classificação report do Random Forest (Treino):\\n {}'.format(classification_report(y_train, pred_class_train)))\n",
    "    \n",
    "    print('Resultado Fase de Teste')\n",
    "    pred_proba_test = rf.predict_proba(X_test)[:, 1] # Probabilidade da classe positiva para os dados de teste\n",
    "    print('\\nAUC probabilidade (Random Forest) - Teste: {}'.format(roc_auc_score(y_test, pred_proba_test)))\n",
    "    pred_class_test = rf.predict(X_test) # previsão classe positiva para os dados de teste\n",
    "    print('\\nAUC previsão (Random Forest) - Teste: {}'.format(roc_auc_score(y_test, pred_class_test)))\n",
    "    print('Matriz de confusão AUC (Random Forest) - Teste:\\n{}'.format(confusion_matrix(y_test, pred_class_test)))\n",
    "    print('Classificação report do Random Forest (Teste):\\n {}'.format(classification_report(y_test, pred_class_test)))\n",
    "    return pred_proba_train, pred_class_train, pred_proba_test, pred_class_test\n",
    "\n",
    "pred_proba_train, pred_class_train, pred_proba_test, pred_class_test = run_random_forest(X_train,X_test,y_train, y_test)"
   ]
  },
  {
   "cell_type": "markdown",
   "id": "915a924c",
   "metadata": {},
   "source": [
    "### Regressão Logística"
   ]
  },
  {
   "cell_type": "code",
   "execution_count": 43,
   "id": "72109543",
   "metadata": {
    "scrolled": false
   },
   "outputs": [
    {
     "name": "stdout",
     "output_type": "stream",
     "text": [
      "Resultado Fase de Treinamento\n",
      "Pontações da validação cruzada (acurácia) [0.80952381 0.81238095 0.81119048 0.80880952 0.80785714]\n",
      "Média das pontuação da validação cruzada (acurácia):0.809952380952381\n",
      "\n",
      "AUC probabilidade (Regressão Logística) - Treino: 0.7213714414338221\n",
      "\n",
      "AUC previsão (Regressão Logística) - Treino: 0.6016425784341568\n",
      "Classificação report do Regressão Logística (Treino):\n",
      "               precision    recall  f1-score   support\n",
      "\n",
      "           0       0.82      0.98      0.89     16355\n",
      "           1       0.72      0.23      0.35      4645\n",
      "\n",
      "    accuracy                           0.81     21000\n",
      "   macro avg       0.77      0.60      0.62     21000\n",
      "weighted avg       0.80      0.81      0.77     21000\n",
      "\n",
      "Resultado Fase de Teste\n",
      "\n",
      "AUC probabilidade (Regressão Logística) - Teste: 0.7303136979870681\n",
      "\n",
      "AUC previsão (Regressão Logística) - Teste: 0.6021798478371676\n",
      "Matriz de confusão AUC (Regressão Logística) - Teste:\n",
      "[[6822  187]\n",
      " [1531  460]]\n",
      "Classificação report do Regressão Logística (Teste):\n",
      "               precision    recall  f1-score   support\n",
      "\n",
      "           0       0.82      0.97      0.89      7009\n",
      "           1       0.71      0.23      0.35      1991\n",
      "\n",
      "    accuracy                           0.81      9000\n",
      "   macro avg       0.76      0.60      0.62      9000\n",
      "weighted avg       0.79      0.81      0.77      9000\n",
      "\n"
     ]
    }
   ],
   "source": [
    "def run_Reg_log(X_train, X_test, y_train, y_test):\n",
    "    rl = LogisticRegression(random_state=0)\n",
    "    rl.fit(X_train, y_train) #treinando o modelo\n",
    "    score = cross_val_score(rl, X_train, y_train, cv=5, scoring='accuracy')\n",
    "    print('Resultado Fase de Treinamento')\n",
    "    print(\"Pontações da validação cruzada (acurácia) {}\".format(score))\n",
    "    print(\"Média das pontuação da validação cruzada (acurácia):{}\".format(score.mean()))\n",
    "    \n",
    "    pred_proba_train = rl.predict_proba(X_train)[:, 1] # Probabilidade da classe positiva para os dados de treino\n",
    "    print('\\nAUC probabilidade (Regressão Logística) - Treino: {}'.format(roc_auc_score(y_train, pred_proba_train)))\n",
    "    pred_class_train = rl.predict(X_train) # previsão classe positiva para os dados de treino \n",
    "    print('\\nAUC previsão (Regressão Logística) - Treino: {}'.format(roc_auc_score(y_train, pred_class_train)))\n",
    "    print('Classificação report do Regressão Logística (Treino):\\n {}'.format(classification_report(y_train, pred_class_train)))\n",
    "    \n",
    "    print('Resultado Fase de Teste')\n",
    "    pred_proba_test = rl.predict_proba(X_test)[:, 1] # Probabilidade da classe positiva para os dados de teste\n",
    "    print('\\nAUC probabilidade (Regressão Logística) - Teste: {}'.format(roc_auc_score(y_test, pred_proba_test)))\n",
    "    pred_class_test = rl.predict(X_test) # previsão classe positiva para os dados de teste\n",
    "    print('\\nAUC previsão (Regressão Logística) - Teste: {}'.format(roc_auc_score(y_test, pred_class_test)))\n",
    "    print('Matriz de confusão AUC (Regressão Logística) - Teste:\\n{}'.format(confusion_matrix(y_test, pred_class_test)))\n",
    "    print('Classificação report do Regressão Logística (Teste):\\n {}'.format(classification_report(y_test, pred_class_test)))\n",
    "    return pred_proba_train, pred_class_train, pred_proba_test, pred_class_test\n",
    "\n",
    "pred_proba_train, pred_class_train, pred_proba_test, pred_class_test = run_Reg_log(X_train,X_test, y_train, y_test)"
   ]
  },
  {
   "cell_type": "markdown",
   "id": "96332ead",
   "metadata": {},
   "source": [
    "### XGBoost"
   ]
  },
  {
   "cell_type": "code",
   "execution_count": 44,
   "id": "ed633052",
   "metadata": {
    "scrolled": false
   },
   "outputs": [
    {
     "name": "stdout",
     "output_type": "stream",
     "text": [
      "Resultado Fase de Treinamento\n",
      "Pontações da validação cruzada (acurácia) [0.81404762 0.82666667 0.82095238 0.82       0.81666667]\n",
      "Média das pontuação da validação cruzada (acurácia):0.8196666666666665\n",
      "\n",
      "AUC probabilidade (XGBoost) - Treino: 0.8557846410327373\n",
      "\n",
      "AUC previsão (XGBoost) - Treino: 0.7111546851856301\n",
      "Classificação report do XGBoost (Treino):\n",
      "               precision    recall  f1-score   support\n",
      "\n",
      "           0       0.86      0.97      0.91     16355\n",
      "           1       0.82      0.45      0.58      4645\n",
      "\n",
      "    accuracy                           0.86     21000\n",
      "   macro avg       0.84      0.71      0.75     21000\n",
      "weighted avg       0.85      0.86      0.84     21000\n",
      "\n",
      "Resultado Fase de Teste\n",
      "\n",
      "AUC probabilidade (XGBoost) - Teste: 0.7840045148237693\n",
      "\n",
      "AUC previsão (XGBoost) - Teste: 0.6555488068400828\n",
      "Matriz de confusão AUC (XGBoost) - Teste:\n",
      "[[6683  326]\n",
      " [1279  712]]\n",
      "Classificação report do XGBoost (Teste):\n",
      "               precision    recall  f1-score   support\n",
      "\n",
      "           0       0.84      0.95      0.89      7009\n",
      "           1       0.69      0.36      0.47      1991\n",
      "\n",
      "    accuracy                           0.82      9000\n",
      "   macro avg       0.76      0.66      0.68      9000\n",
      "weighted avg       0.81      0.82      0.80      9000\n",
      "\n"
     ]
    }
   ],
   "source": [
    "def run_XGBoost(X_train, X_test, y_train, y_test):\n",
    "    xgboost = xgb.XGBClassifier(random_state=0, max_depth=10, learning_rate=0.01, subsample=0.8, colsample_bytree=0.8, \n",
    "                                reg_alpha=1, reg_lambda=1)\n",
    "    xgboost.fit(X_train, y_train)\n",
    "    score = cross_val_score(xgboost, X_train, y_train, cv=5, scoring='accuracy')\n",
    "    print('Resultado Fase de Treinamento')\n",
    "    print(\"Pontações da validação cruzada (acurácia) {}\".format(score))\n",
    "    print(\"Média das pontuação da validação cruzada (acurácia):{}\".format(score.mean()))\n",
    "    \n",
    "    pred_proba_train = xgboost.predict_proba(X_train)[:, 1] # Probabilidade da classe positiva para os dados de treino\n",
    "    print('\\nAUC probabilidade (XGBoost) - Treino: {}'.format(roc_auc_score(y_train, pred_proba_train)))\n",
    "    pred_class_train = xgboost.predict(X_train) # previsão classe positiva para os dados de treino \n",
    "    print('\\nAUC previsão (XGBoost) - Treino: {}'.format(roc_auc_score(y_train, pred_class_train)))\n",
    "    print('Classificação report do XGBoost (Treino):\\n {}'.format(classification_report(y_train, pred_class_train)))\n",
    "    \n",
    "    print('Resultado Fase de Teste')\n",
    "    pred_proba_test = xgboost.predict_proba(X_test)[:, 1] # Probabilidade da classe positiva para os dados de teste\n",
    "    print('\\nAUC probabilidade (XGBoost) - Teste: {}'.format(roc_auc_score(y_test, pred_proba_test)))\n",
    "    pred_class_test = xgboost.predict(X_test) # previsão classe positiva para os dados de teste\n",
    "    print('\\nAUC previsão (XGBoost) - Teste: {}'.format(roc_auc_score(y_test, pred_class_test)))\n",
    "    print('Matriz de confusão AUC (XGBoost) - Teste:\\n{}'.format(confusion_matrix(y_test, pred_class_test)))\n",
    "    print('Classificação report do XGBoost (Teste):\\n {}'.format(classification_report(y_test, pred_class_test)))\n",
    "    return pred_proba_train, pred_class_train, pred_proba_test, pred_class_test\n",
    "\n",
    "pred_proba_train, pred_class_train, pred_proba_test, pred_class_test = run_XGBoost(X_train,X_test, y_train, y_test)"
   ]
  },
  {
   "cell_type": "markdown",
   "id": "a969943d",
   "metadata": {},
   "source": [
    "### LightGBM "
   ]
  },
  {
   "cell_type": "code",
   "execution_count": 45,
   "id": "11a39ce5",
   "metadata": {
    "scrolled": false
   },
   "outputs": [
    {
     "name": "stdout",
     "output_type": "stream",
     "text": [
      "Resultado Fase de Treinamento\n",
      "Pontações da validação cruzada (acurácia) [0.81428571 0.82380952 0.82047619 0.82238095 0.81904762]\n",
      "Média das pontuação da validação cruzada (acurácia):0.82\n",
      "\n",
      "AUC probabilidade (LightGBM) - Treino: 0.8144980368630748\n",
      "\n",
      "AUC previsão (LightGBM) - Treino: 0.6588215781508174\n",
      "Classificação report do LightGBM (Treino):\n",
      "               precision    recall  f1-score   support\n",
      "\n",
      "           0       0.84      0.96      0.90     16355\n",
      "           1       0.71      0.36      0.48      4645\n",
      "\n",
      "    accuracy                           0.83     21000\n",
      "   macro avg       0.77      0.66      0.69     21000\n",
      "weighted avg       0.81      0.83      0.80     21000\n",
      "\n",
      "Resultado Fase de Teste\n",
      "\n",
      "AUC probabilidade (LightGBM) - Teste: 0.7886525174384746\n",
      "\n",
      "AUC previsão (LightGBM) - Teste: 0.6541330694932732\n",
      "Matriz de confusão AUC (LightGBM) - Teste:\n",
      "[[6723  286]\n",
      " [1296  695]]\n",
      "Classificação report do LightGBM (Teste):\n",
      "               precision    recall  f1-score   support\n",
      "\n",
      "           0       0.84      0.96      0.89      7009\n",
      "           1       0.71      0.35      0.47      1991\n",
      "\n",
      "    accuracy                           0.82      9000\n",
      "   macro avg       0.77      0.65      0.68      9000\n",
      "weighted avg       0.81      0.82      0.80      9000\n",
      "\n"
     ]
    }
   ],
   "source": [
    "def run_LightGBM(X_train, X_test, y_train, y_test):\n",
    "    gbm = lgb.LGBMClassifier(random_state=0, max_depth=10, learning_rate=0.02)\n",
    "    gbm.fit(X_train, y_train)\n",
    "    score = cross_val_score(gbm, X_train, y_train, cv=5, scoring='accuracy')\n",
    "    print('Resultado Fase de Treinamento')\n",
    "    print(\"Pontações da validação cruzada (acurácia) {}\".format(score))\n",
    "    print(\"Média das pontuação da validação cruzada (acurácia):{}\".format(score.mean()))\n",
    "    \n",
    "    pred_proba_train = gbm.predict_proba(X_train)[:, 1] # Probabilidade da classe positiva para os dados de treino\n",
    "    print('\\nAUC probabilidade (LightGBM) - Treino: {}'.format(roc_auc_score(y_train, pred_proba_train)))\n",
    "    pred_class_train = gbm.predict(X_train) # previsão classe positiva para os dados de treino \n",
    "    print('\\nAUC previsão (LightGBM) - Treino: {}'.format(roc_auc_score(y_train, pred_class_train)))\n",
    "    print('Classificação report do LightGBM (Treino):\\n {}'.format(classification_report(y_train, pred_class_train)))\n",
    "    \n",
    "    print('Resultado Fase de Teste')\n",
    "    pred_proba_test = gbm.predict_proba(X_test)[:, 1] # Probabilidade da classe positiva para os dados de teste\n",
    "    print('\\nAUC probabilidade (LightGBM) - Teste: {}'.format(roc_auc_score(y_test, pred_proba_test)))\n",
    "    pred_class_test = gbm.predict(X_test) # previsão classe positiva para os dados de teste\n",
    "    print('\\nAUC previsão (LightGBM) - Teste: {}'.format(roc_auc_score(y_test, pred_class_test)))\n",
    "    print('Matriz de confusão AUC (LightGBM) - Teste:\\n{}'.format(confusion_matrix(y_test, pred_class_test)))\n",
    "    print('Classificação report do LightGBM (Teste):\\n {}'.format(classification_report(y_test, pred_class_test)))\n",
    "    return pred_proba_train, pred_class_train, pred_proba_test, pred_class_test\n",
    "\n",
    "pred_proba_train, pred_class_train, pred_proba_test, pred_class_test = run_LightGBM(X_train,X_test, y_train, y_test)"
   ]
  },
  {
   "cell_type": "markdown",
   "id": "09666585",
   "metadata": {},
   "source": [
    "### CatBoost"
   ]
  },
  {
   "cell_type": "code",
   "execution_count": 46,
   "id": "deebea4c",
   "metadata": {
    "scrolled": false
   },
   "outputs": [
    {
     "name": "stdout",
     "output_type": "stream",
     "text": [
      "Resultado Fase de Treinamento\n",
      "Pontações da validação cruzada (acurácia) [0.8147619  0.82285714 0.82142857 0.82142857 0.81690476]\n",
      "Média das pontuação da validação cruzada (acurácia):0.8194761904761905\n",
      "\n",
      "AUC probabilidade (CatBoost) - Treino: 0.8035726426478703\n",
      "\n",
      "AUC previsão (CatBoost) - Treino: 0.6666483916625174\n",
      "Classificação report do CatBoost (Treino):\n",
      "               precision    recall  f1-score   support\n",
      "\n",
      "           0       0.84      0.95      0.90     16355\n",
      "           1       0.70      0.38      0.49      4645\n",
      "\n",
      "    accuracy                           0.83     21000\n",
      "   macro avg       0.77      0.67      0.69     21000\n",
      "weighted avg       0.81      0.83      0.81     21000\n",
      "\n",
      "Resultado Fase de Teste\n",
      "\n",
      "AUC probabilidade (CatBoost) - Teste: 0.7887212745555886\n",
      "\n",
      "AUC previsão (CatBoost) - Teste: 0.6619355153548365\n",
      "Matriz de confusão AUC (CatBoost) - Teste:\n",
      "[[6681  328]\n",
      " [1253  738]]\n",
      "Classificação report do CatBoost (Teste):\n",
      "               precision    recall  f1-score   support\n",
      "\n",
      "           0       0.84      0.95      0.89      7009\n",
      "           1       0.69      0.37      0.48      1991\n",
      "\n",
      "    accuracy                           0.82      9000\n",
      "   macro avg       0.77      0.66      0.69      9000\n",
      "weighted avg       0.81      0.82      0.80      9000\n",
      "\n"
     ]
    }
   ],
   "source": [
    "def run_CatBoost(X_train, X_test, y_train, y_test):\n",
    "    cb = CatBoostClassifier(random_state=0, learning_rate= 0.01, max_depth= 5, subsample= 0.8, verbose=False)\n",
    "    cb.fit(X_train, y_train)\n",
    "    score = cross_val_score(cb, X_train, y_train, cv=5, scoring='accuracy')\n",
    "    print('Resultado Fase de Treinamento')\n",
    "    print(\"Pontações da validação cruzada (acurácia) {}\".format(score))\n",
    "    print(\"Média das pontuação da validação cruzada (acurácia):{}\".format(score.mean()))\n",
    "    \n",
    "    pred_proba_train = cb.predict_proba(X_train)[:, 1] # Probabilidade da classe positiva para os dados de treino\n",
    "    print('\\nAUC probabilidade (CatBoost) - Treino: {}'.format(roc_auc_score(y_train, pred_proba_train)))\n",
    "    pred_class_train = cb.predict(X_train) # previsão classe positiva para os dados de treino \n",
    "    print('\\nAUC previsão (CatBoost) - Treino: {}'.format(roc_auc_score(y_train, pred_class_train)))\n",
    "    print('Classificação report do CatBoost (Treino):\\n {}'.format(classification_report(y_train, pred_class_train)))\n",
    "    \n",
    "    print('Resultado Fase de Teste')\n",
    "    pred_proba_test = cb.predict_proba(X_test)[:, 1] # Probabilidade da classe positiva para os dados de teste\n",
    "    print('\\nAUC probabilidade (CatBoost) - Teste: {}'.format(roc_auc_score(y_test, pred_proba_test)))\n",
    "    pred_class_test = cb.predict(X_test) # previsão classe positiva para os dados de teste\n",
    "    print('\\nAUC previsão (CatBoost) - Teste: {}'.format(roc_auc_score(y_test, pred_class_test)))\n",
    "    print('Matriz de confusão AUC (CatBoost) - Teste:\\n{}'.format(confusion_matrix(y_test, pred_class_test)))\n",
    "    print('Classificação report do CatBoost (Teste):\\n {}'.format(classification_report(y_test, pred_class_test)))\n",
    "    return pred_proba_train, pred_class_train, pred_proba_test, pred_class_test\n",
    "\n",
    "pred_proba_train, pred_class_train, pred_proba_test, pred_class_test = run_CatBoost(X_train,X_test, y_train, y_test)"
   ]
  },
  {
   "cell_type": "markdown",
   "id": "5b4ccf4d",
   "metadata": {},
   "source": [
    "### Redes Neurais"
   ]
  },
  {
   "cell_type": "code",
   "execution_count": 47,
   "id": "b89f83cc",
   "metadata": {},
   "outputs": [
    {
     "name": "stdout",
     "output_type": "stream",
     "text": [
      "Resultado Fase de Treinamento\n",
      "Pontações da validação cruzada (acurácia) [0.80261905 0.81833333 0.81595238 0.80571429 0.80261905]\n",
      "Média das pontuação da validação cruzada (acurácia):0.809047619047619\n",
      "\n",
      "AUC probabilidade (Redes Neurais) - Treino: 0.8368963646014705\n",
      "\n",
      "AUC previsão (Redes Neurais) - Treino: 0.6704544519654241\n",
      "Classificação report do Redes Neurais (Treino):\n",
      "               precision    recall  f1-score   support\n",
      "\n",
      "           0       0.84      0.97      0.90     16355\n",
      "           1       0.76      0.38      0.50      4645\n",
      "\n",
      "    accuracy                           0.84     21000\n",
      "   macro avg       0.80      0.67      0.70     21000\n",
      "weighted avg       0.83      0.84      0.81     21000\n",
      "\n",
      "Resultado Fase de Teste\n",
      "\n",
      "AUC probabilidade (Redes Neurais) - Teste: 0.7610584124494022\n",
      "\n",
      "AUC previsão (Redes Neurais) - Teste: 0.6325788060826437\n",
      "Matriz de confusão AUC (Redes Neurais) - Teste:\n",
      "[[6706  303]\n",
      " [1377  614]]\n",
      "Classificação report do Redes Neurais (Teste):\n",
      "               precision    recall  f1-score   support\n",
      "\n",
      "           0       0.83      0.96      0.89      7009\n",
      "           1       0.67      0.31      0.42      1991\n",
      "\n",
      "    accuracy                           0.81      9000\n",
      "   macro avg       0.75      0.63      0.66      9000\n",
      "weighted avg       0.79      0.81      0.79      9000\n",
      "\n"
     ]
    }
   ],
   "source": [
    "def run_RNeural(X_train, X_test, y_train, y_test):\n",
    "    rn = MLPClassifier(max_iter=500,random_state=0)\n",
    "    rn.fit(X_train, y_train)\n",
    "    score = cross_val_score(rn, X_train, y_train, cv=5, scoring='accuracy')\n",
    "    print('Resultado Fase de Treinamento')\n",
    "    print(\"Pontações da validação cruzada (acurácia) {}\".format(score))\n",
    "    print(\"Média das pontuação da validação cruzada (acurácia):{}\".format(score.mean()))\n",
    "    \n",
    "    pred_proba_train = rn.predict_proba(X_train)[:, 1] # Probabilidade da classe positiva para os dados de treino\n",
    "    print('\\nAUC probabilidade (Redes Neurais) - Treino: {}'.format(roc_auc_score(y_train, pred_proba_train)))\n",
    "    pred_class_train = rn.predict(X_train) # previsão classe positiva para os dados de treino \n",
    "    print('\\nAUC previsão (Redes Neurais) - Treino: {}'.format(roc_auc_score(y_train, pred_class_train)))\n",
    "    print('Classificação report do Redes Neurais (Treino):\\n {}'.format(classification_report(y_train, pred_class_train)))\n",
    "    \n",
    "    print('Resultado Fase de Teste')\n",
    "    pred_proba_test = rn.predict_proba(X_test)[:, 1] # Probabilidade da classe positiva para os dados de teste\n",
    "    print('\\nAUC probabilidade (Redes Neurais) - Teste: {}'.format(roc_auc_score(y_test, pred_proba_test)))\n",
    "    pred_class_test = rn.predict(X_test) # previsão classe positiva positiva para os dados de teste\n",
    "    print('\\nAUC previsão (Redes Neurais) - Teste: {}'.format(roc_auc_score(y_test, pred_class_test)))\n",
    "    print('Matriz de confusão AUC (Redes Neurais) - Teste:\\n{}'.format(confusion_matrix(y_test, pred_class_test)))\n",
    "    print('Classificação report do Redes Neurais (Teste):\\n {}'.format(classification_report(y_test, pred_class_test)))\n",
    "    return pred_proba_train, pred_class_train, pred_proba_test, pred_class_test\n",
    "\n",
    "pred_proba_train, pred_class_train, pred_proba_test, pred_class_test = run_RNeural(X_train,X_test, y_train, y_test)"
   ]
  },
  {
   "cell_type": "markdown",
   "id": "43c23f4c",
   "metadata": {},
   "source": [
    "O *recall (taxa de verdadeiro positivo)* é complementar a *taxa de falso negativo*. Neste caso quando maior for o valor do *recall* para a classe positiva menor é a taxa de *taxa de falsos negativos*. Resumo dos resultados referente as previsões da classe positiva."
   ]
  },
  {
   "cell_type": "code",
   "execution_count": 48,
   "id": "abfa1271",
   "metadata": {
    "scrolled": true
   },
   "outputs": [
    {
     "data": {
      "text/html": [
       "<div>\n",
       "<style scoped>\n",
       "    .dataframe tbody tr th:only-of-type {\n",
       "        vertical-align: middle;\n",
       "    }\n",
       "\n",
       "    .dataframe tbody tr th {\n",
       "        vertical-align: top;\n",
       "    }\n",
       "\n",
       "    .dataframe thead th {\n",
       "        text-align: right;\n",
       "    }\n",
       "</style>\n",
       "<table border=\"1\" class=\"dataframe\">\n",
       "  <thead>\n",
       "    <tr style=\"text-align: right;\">\n",
       "      <th></th>\n",
       "      <th>Accuracy</th>\n",
       "      <th>Precision</th>\n",
       "      <th>Recall</th>\n",
       "      <th>AUC probability</th>\n",
       "      <th>AUC predict</th>\n",
       "    </tr>\n",
       "  </thead>\n",
       "  <tbody>\n",
       "    <tr>\n",
       "      <th>Random Forest</th>\n",
       "      <td>0.82</td>\n",
       "      <td>0.69</td>\n",
       "      <td>0.36</td>\n",
       "      <td>0.79</td>\n",
       "      <td>0.66</td>\n",
       "    </tr>\n",
       "    <tr>\n",
       "      <th>Regressão Logística</th>\n",
       "      <td>0.81</td>\n",
       "      <td>0.71</td>\n",
       "      <td>0.23</td>\n",
       "      <td>0.73</td>\n",
       "      <td>0.60</td>\n",
       "    </tr>\n",
       "    <tr>\n",
       "      <th>XGBoost</th>\n",
       "      <td>0.82</td>\n",
       "      <td>0.69</td>\n",
       "      <td>0.36</td>\n",
       "      <td>0.78</td>\n",
       "      <td>0.65</td>\n",
       "    </tr>\n",
       "    <tr>\n",
       "      <th>LightGBM</th>\n",
       "      <td>0.82</td>\n",
       "      <td>0.71</td>\n",
       "      <td>0.35</td>\n",
       "      <td>0.79</td>\n",
       "      <td>0.65</td>\n",
       "    </tr>\n",
       "    <tr>\n",
       "      <th>CatBoost</th>\n",
       "      <td>0.82</td>\n",
       "      <td>0.69</td>\n",
       "      <td>0.37</td>\n",
       "      <td>0.79</td>\n",
       "      <td>0.66</td>\n",
       "    </tr>\n",
       "    <tr>\n",
       "      <th>Rede Neural</th>\n",
       "      <td>0.81</td>\n",
       "      <td>0.67</td>\n",
       "      <td>0.31</td>\n",
       "      <td>0.76</td>\n",
       "      <td>0.63</td>\n",
       "    </tr>\n",
       "  </tbody>\n",
       "</table>\n",
       "</div>"
      ],
      "text/plain": [
       "                    Accuracy Precision Recall AUC probability AUC predict\n",
       "Random Forest           0.82      0.69   0.36            0.79        0.66\n",
       "Regressão Logística     0.81      0.71   0.23            0.73        0.60\n",
       "XGBoost                 0.82      0.69   0.36            0.78        0.65\n",
       "LightGBM                0.82      0.71   0.35            0.79        0.65\n",
       "CatBoost                0.82      0.69   0.37            0.79        0.66\n",
       "Rede Neural             0.81      0.67   0.31            0.76        0.63"
      ]
     },
     "execution_count": 48,
     "metadata": {},
     "output_type": "execute_result"
    }
   ],
   "source": [
    "resultados = {'Random Forest': {'Accuracy': 0.82,'Precision': 0.69,'Recall': 0.36,'AUC probability': 0.79,'AUC predict': 0.66},\n",
    "        'Regressão Logística': {'Accuracy': 0.81,'Precision': 0.71,'Recall': 0.23,'AUC probability': 0.73,'AUC predict': 0.60},\n",
    "              'XGBoost': {'Accuracy': 0.82,'Precision': 0.69,'Recall': 0.36,'AUC probability': 0.78,'AUC predict': 0.65},\n",
    "             'LightGBM': {'Accuracy': 0.82,'Precision': 0.71,'Recall': 0.35,'AUC probability': 0.79,'AUC predict': 0.65},\n",
    "             'CatBoost': {'Accuracy': 0.82,'Precision': 0.69,'Recall': 0.37,'AUC probability': 0.79,'AUC predict': 0.66},\n",
    "             'Rede Neural': {'Accuracy': 0.81,'Precision': 0.67,'Recall': 0.31,'AUC probability': 0.76,'AUC predict': 0.63}}\n",
    "\n",
    "df = pd.DataFrame(resultados).T\n",
    "df = df.applymap('{:.2f}'.format)\n",
    "df\n",
    "\n"
   ]
  },
  {
   "cell_type": "markdown",
   "id": "92449d88",
   "metadata": {},
   "source": [
    "## Conclusão\n",
    "\n",
    "Considerando o modelo com a maior capacidade de classificar corretamente a classe positiva e com menor quantidade de falsos positivos, o escolhido é o *CatBoost*. Porém, esse esse modelo comete muitos falsos negativos. As tabelas seguintes mostram outros resultados, em que, foram utilizadas técnicas de subamostragem da classe majoritária e o princípio da parcimônia ([link da análise completa](https://github.com/Fagna/Projeto_Inadimplencia_de_clientes/Técnica-de-subamostragem-e-parcimônia)).\n",
    "\n",
    "### Modelo todas as variáveis (subamostragem)"
   ]
  },
  {
   "cell_type": "code",
   "execution_count": 49,
   "id": "6f0fbfe2",
   "metadata": {},
   "outputs": [
    {
     "data": {
      "text/html": [
       "<div>\n",
       "<style scoped>\n",
       "    .dataframe tbody tr th:only-of-type {\n",
       "        vertical-align: middle;\n",
       "    }\n",
       "\n",
       "    .dataframe tbody tr th {\n",
       "        vertical-align: top;\n",
       "    }\n",
       "\n",
       "    .dataframe thead th {\n",
       "        text-align: right;\n",
       "    }\n",
       "</style>\n",
       "<table border=\"1\" class=\"dataframe\">\n",
       "  <thead>\n",
       "    <tr style=\"text-align: right;\">\n",
       "      <th></th>\n",
       "      <th>Accuracy</th>\n",
       "      <th>Precision</th>\n",
       "      <th>Recall</th>\n",
       "      <th>AUC probability</th>\n",
       "      <th>AUC predict</th>\n",
       "    </tr>\n",
       "  </thead>\n",
       "  <tbody>\n",
       "    <tr>\n",
       "      <th>Random Forest</th>\n",
       "      <td>0.77</td>\n",
       "      <td>0.48</td>\n",
       "      <td>0.62</td>\n",
       "      <td>0.78</td>\n",
       "      <td>0.72</td>\n",
       "    </tr>\n",
       "    <tr>\n",
       "      <th>Regressão Logística</th>\n",
       "      <td>0.70</td>\n",
       "      <td>0.39</td>\n",
       "      <td>0.65</td>\n",
       "      <td>0.73</td>\n",
       "      <td>0.68</td>\n",
       "    </tr>\n",
       "    <tr>\n",
       "      <th>XGBoost</th>\n",
       "      <td>0.76</td>\n",
       "      <td>0.47</td>\n",
       "      <td>0.63</td>\n",
       "      <td>0.78</td>\n",
       "      <td>0.71</td>\n",
       "    </tr>\n",
       "    <tr>\n",
       "      <th>LightGBM</th>\n",
       "      <td>0.76</td>\n",
       "      <td>0.48</td>\n",
       "      <td>0.63</td>\n",
       "      <td>0.78</td>\n",
       "      <td>0.71</td>\n",
       "    </tr>\n",
       "    <tr>\n",
       "      <th>CatBoost</th>\n",
       "      <td>0.76</td>\n",
       "      <td>0.47</td>\n",
       "      <td>0.63</td>\n",
       "      <td>0.79</td>\n",
       "      <td>0.71</td>\n",
       "    </tr>\n",
       "    <tr>\n",
       "      <th>Rede Neural</th>\n",
       "      <td>0.73</td>\n",
       "      <td>0.42</td>\n",
       "      <td>0.63</td>\n",
       "      <td>0.76</td>\n",
       "      <td>0.69</td>\n",
       "    </tr>\n",
       "  </tbody>\n",
       "</table>\n",
       "</div>"
      ],
      "text/plain": [
       "                    Accuracy Precision Recall AUC probability AUC predict\n",
       "Random Forest           0.77      0.48   0.62            0.78        0.72\n",
       "Regressão Logística     0.70      0.39   0.65            0.73        0.68\n",
       "XGBoost                 0.76      0.47   0.63            0.78        0.71\n",
       "LightGBM                0.76      0.48   0.63            0.78        0.71\n",
       "CatBoost                0.76      0.47   0.63            0.79        0.71\n",
       "Rede Neural             0.73      0.42   0.63            0.76        0.69"
      ]
     },
     "execution_count": 49,
     "metadata": {},
     "output_type": "execute_result"
    }
   ],
   "source": [
    "resultados = {'Random Forest': {'Accuracy': 0.77,'Precision': 0.48,'Recall': 0.62,'AUC probability': 0.78,'AUC predict': 0.72},\n",
    "        'Regressão Logística': {'Accuracy': 0.70,'Precision': 0.39,'Recall': 0.65,'AUC probability': 0.73,'AUC predict': 0.68},\n",
    "              'XGBoost': {'Accuracy': 0.76,'Precision': 0.47,'Recall': 0.63,'AUC probability': 0.78,'AUC predict': 0.71},\n",
    "             'LightGBM': {'Accuracy': 0.76,'Precision': 0.48,'Recall': 0.63,'AUC probability': 0.78,'AUC predict': 0.71},\n",
    "             'CatBoost': {'Accuracy': 0.76,'Precision': 0.47,'Recall': 0.63,'AUC probability': 0.79,'AUC predict': 0.71},\n",
    "             'Rede Neural': {'Accuracy': 0.73,'Precision': 0.42,'Recall': 0.63,'AUC probability': 0.76,'AUC predict': 0.69}}\n",
    "\n",
    "df = pd.DataFrame(resultados).T\n",
    "df = df.applymap('{:.2f}'.format)\n",
    "df"
   ]
  },
  {
   "cell_type": "markdown",
   "id": "9443892e",
   "metadata": {},
   "source": [
    "### Modelo parcimonioso (subamostragem)"
   ]
  },
  {
   "cell_type": "code",
   "execution_count": 50,
   "id": "8454c825",
   "metadata": {},
   "outputs": [
    {
     "data": {
      "text/html": [
       "<div>\n",
       "<style scoped>\n",
       "    .dataframe tbody tr th:only-of-type {\n",
       "        vertical-align: middle;\n",
       "    }\n",
       "\n",
       "    .dataframe tbody tr th {\n",
       "        vertical-align: top;\n",
       "    }\n",
       "\n",
       "    .dataframe thead th {\n",
       "        text-align: right;\n",
       "    }\n",
       "</style>\n",
       "<table border=\"1\" class=\"dataframe\">\n",
       "  <thead>\n",
       "    <tr style=\"text-align: right;\">\n",
       "      <th></th>\n",
       "      <th>Accuracy</th>\n",
       "      <th>Precision</th>\n",
       "      <th>Recall</th>\n",
       "      <th>AUC probability</th>\n",
       "      <th>AUC predict</th>\n",
       "    </tr>\n",
       "  </thead>\n",
       "  <tbody>\n",
       "    <tr>\n",
       "      <th>Random Forest</th>\n",
       "      <td>0.76</td>\n",
       "      <td>0.46</td>\n",
       "      <td>0.60</td>\n",
       "      <td>0.77</td>\n",
       "      <td>0.70</td>\n",
       "    </tr>\n",
       "    <tr>\n",
       "      <th>Regressão Logística</th>\n",
       "      <td>0.69</td>\n",
       "      <td>0.38</td>\n",
       "      <td>0.65</td>\n",
       "      <td>0.73</td>\n",
       "      <td>0.67</td>\n",
       "    </tr>\n",
       "    <tr>\n",
       "      <th>XGBoost</th>\n",
       "      <td>0.76</td>\n",
       "      <td>0.46</td>\n",
       "      <td>0.62</td>\n",
       "      <td>0.77</td>\n",
       "      <td>0.70</td>\n",
       "    </tr>\n",
       "    <tr>\n",
       "      <th>LightGBM</th>\n",
       "      <td>0.76</td>\n",
       "      <td>0.47</td>\n",
       "      <td>0.62</td>\n",
       "      <td>0.78</td>\n",
       "      <td>0.71</td>\n",
       "    </tr>\n",
       "    <tr>\n",
       "      <th>CatBoost</th>\n",
       "      <td>0.77</td>\n",
       "      <td>0.48</td>\n",
       "      <td>0.62</td>\n",
       "      <td>0.78</td>\n",
       "      <td>0.71</td>\n",
       "    </tr>\n",
       "    <tr>\n",
       "      <th>Rede Neural</th>\n",
       "      <td>0.73</td>\n",
       "      <td>0.43</td>\n",
       "      <td>0.64</td>\n",
       "      <td>0.77</td>\n",
       "      <td>0.70</td>\n",
       "    </tr>\n",
       "  </tbody>\n",
       "</table>\n",
       "</div>"
      ],
      "text/plain": [
       "                    Accuracy Precision Recall AUC probability AUC predict\n",
       "Random Forest           0.76      0.46   0.60            0.77        0.70\n",
       "Regressão Logística     0.69      0.38   0.65            0.73        0.67\n",
       "XGBoost                 0.76      0.46   0.62            0.77        0.70\n",
       "LightGBM                0.76      0.47   0.62            0.78        0.71\n",
       "CatBoost                0.77      0.48   0.62            0.78        0.71\n",
       "Rede Neural             0.73      0.43   0.64            0.77        0.70"
      ]
     },
     "execution_count": 50,
     "metadata": {},
     "output_type": "execute_result"
    }
   ],
   "source": [
    "resultados = {'Random Forest': {'Accuracy': 0.76,'Precision': 0.46,'Recall': 0.60,'AUC probability': 0.77,'AUC predict': 0.70},\n",
    "        'Regressão Logística': {'Accuracy': 0.69,'Precision': 0.38,'Recall': 0.65,'AUC probability': 0.73,'AUC predict': 0.67},\n",
    "              'XGBoost': {'Accuracy': 0.76,'Precision': 0.46,'Recall': 0.62,'AUC probability': 0.77,'AUC predict': 0.70},\n",
    "             'LightGBM': {'Accuracy': 0.76,'Precision': 0.47,'Recall': 0.62,'AUC probability': 0.78,'AUC predict': 0.71},\n",
    "             'CatBoost': {'Accuracy': 0.77,'Precision': 0.48,'Recall': 0.62,'AUC probability': 0.78,'AUC predict': 0.71},\n",
    "             'Rede Neural': {'Accuracy': 0.73,'Precision': 0.43,'Recall': 0.64,'AUC probability': 0.77,'AUC predict': 0.70}}\n",
    "\n",
    "df = pd.DataFrame(resultados).T\n",
    "df = df.applymap('{:.2f}'.format)\n",
    "df"
   ]
  },
  {
   "cell_type": "markdown",
   "id": "2ff73e3e",
   "metadata": {},
   "source": [
    "Métricas como precision e accuracy não são boas medidas de avaliação de modelos de classificação, pois a precision avalia apenas a quantidade de acerto em ambas as classes e a accuracy a quatidade de acerto geral do modelo em relação a classe positiva. \n",
    "\n",
    "Os algoritmos LightGBM e CatBoost apresentaram as maiores probabilidade de acerto da classe positiva, porém com uma taxa de 38\\% de falsos positivos, a regressão logística teve menor taxa de falsos positivos, mas probabiliadde de apenas 0.73. O modelo parcimonioso teve resultado semelhante ao modelo com as variáveis originais. \n",
    "\n",
    "Claro que um maior poder discriminante do modelo obtido seria melhor, mas, considerando que o modelo vai prever a probabilidade do cliente pagar ou não pagar no próximo mês, e sabendo que clientes do sexo masculino, escolaridade ensino médio, categoria de crédito silver, estado civil outros ou casado e faixa etária dos 20 à 29 anos e a partir dos 40 anos tem mais chances de inadimplência, isso permite avaliar melhor os resultados classificados como negativos (cliente vai pagar)."
   ]
  }
 ],
 "metadata": {
  "kernelspec": {
   "display_name": "Python 3 (ipykernel)",
   "language": "python",
   "name": "python3"
  },
  "language_info": {
   "codemirror_mode": {
    "name": "ipython",
    "version": 3
   },
   "file_extension": ".py",
   "mimetype": "text/x-python",
   "name": "python",
   "nbconvert_exporter": "python",
   "pygments_lexer": "ipython3",
   "version": "3.9.13"
  }
 },
 "nbformat": 4,
 "nbformat_minor": 5
}
